{
 "cells": [
  {
   "cell_type": "markdown",
   "metadata": {},
   "source": [
    "# Linear, Polynomial, and Decision Tree Regression"
   ]
  },
  {
   "cell_type": "code",
   "execution_count": 1,
   "metadata": {},
   "outputs": [],
   "source": [
    "from IPython.display import Image\n",
    "\n",
    "import os\n",
    "os.environ['CUDA_VISIBLE_DEVICES'] = \"2, 3\"\n",
    "\n",
    "# inline plotting instead of popping out\n",
    "%matplotlib inline"
   ]
  },
  {
   "cell_type": "markdown",
   "metadata": {},
   "source": [
    "* We will guide you through the linear and polynomial regression using the Housing dataset [(description, data)](https://archive.ics.uci.edu/ml/machine-learning-databases/housing/housing.names).\n",
    "* We will also extend the **Decision Tree** and **Random Forest** classifiers that we have learned from our previous labs to solve the regression problem."
   ]
  },
  {
   "cell_type": "markdown",
   "metadata": {},
   "source": [
    "# <a name='LR'>Linear Regression</a>\n",
    "* Regression models are used to predict target variables (y's) in <font color='Res'>continuous space</font>, which makes them attractive for\n",
    "    * Understanding relationships between variables\n",
    "    * Evaluating trends\n",
    "    * Making forecasts\n",
    "* Consider $y$ can be explained by the 1-D points ($x∈R$), the linear model is defined as:\n",
    "    * $\\hat {y}=w_{0}+w_{1}x$\n",
    "    * Minimizing the [sum of squared errors](#SSE) (SSE) can be understood as finding the best-fitting straight line through the example points.\n",
    "    * The best-fitting line is called the regression line (or hyperplane when $x∈R^{D}, D>1$ ), and the vertical offsets from the regression line to the data points are called the residuals (i.e., the errors of our prediction).\n",
    "    * Shown in the following:\n",
    "    <img src='https://nthu-datalab.github.io/ml/labs/04-2_Regression/fig-linear-regression.png' width='400'></img>\n",
    "    * Note that the w0 and w1 control the intercept/bias and slope of the regression line respectively."
   ]
  },
  {
   "cell_type": "markdown",
   "metadata": {},
   "source": [
    "# The Housing dataset\n",
    "* The Housing dataset from UCI repository collects information about houses in the suburbs of Boston. Following are the attributes:\n",
    "        1.  CRIM      Per capita crime rate by town\n",
    "        2.  ZN        Proportion of residential land zoned for lots over 25,000 sq.ft.\n",
    "        3.  INDUS     Proportion of non-retail business acres per town\n",
    "        4.  CHAS      Charles River dummy variable (= 1 if tract bounds river; 0 otherwise)\n",
    "        5.  NOX       Nitric oxides concentration (parts per 10 million)\n",
    "        6.  RM        Average number of rooms per dwelling\n",
    "        7.  AGE       Proportion of owner-occupied units built prior to 1940\n",
    "        8.  DIS       Weighted distances to five Boston employment centres\n",
    "        9.  RAD       Index of accessibility to radial highways\n",
    "        10. TAX       Full-value property-tax rate per \\$10,000\n",
    "        11. PTRATIO   Pupil-teacher ratio by town\n",
    "        12. B         1000(Bk - 0.63)^2 where Bk is the proportion of blacks by town\n",
    "        13. LSTAT     % lower status of the population\n",
    "        14. MEDV      Median value of owner-occupied homes in $1000's\n",
    "* Our goal is to predict the house prices ('MEDV'), which is in a continuous scale, using the values of some other variable. \n",
    "* Let's load the data first, and see head 5 data in dataset."
   ]
  },
  {
   "cell_type": "code",
   "execution_count": 2,
   "metadata": {},
   "outputs": [
    {
     "data": {
      "text/html": [
       "<div>\n",
       "<style scoped>\n",
       "    .dataframe tbody tr th:only-of-type {\n",
       "        vertical-align: middle;\n",
       "    }\n",
       "\n",
       "    .dataframe tbody tr th {\n",
       "        vertical-align: top;\n",
       "    }\n",
       "\n",
       "    .dataframe thead th {\n",
       "        text-align: right;\n",
       "    }\n",
       "</style>\n",
       "<table border=\"1\" class=\"dataframe\">\n",
       "  <thead>\n",
       "    <tr style=\"text-align: right;\">\n",
       "      <th></th>\n",
       "      <th>CRIM</th>\n",
       "      <th>ZN</th>\n",
       "      <th>INDUS</th>\n",
       "      <th>CHAS</th>\n",
       "      <th>NOX</th>\n",
       "      <th>RM</th>\n",
       "      <th>AGE</th>\n",
       "      <th>DIS</th>\n",
       "      <th>RAD</th>\n",
       "      <th>TAX</th>\n",
       "      <th>PTRATIO</th>\n",
       "      <th>B</th>\n",
       "      <th>LSTAT</th>\n",
       "      <th>MEDV</th>\n",
       "    </tr>\n",
       "  </thead>\n",
       "  <tbody>\n",
       "    <tr>\n",
       "      <th>0</th>\n",
       "      <td>0.00632</td>\n",
       "      <td>18.0</td>\n",
       "      <td>2.31</td>\n",
       "      <td>0</td>\n",
       "      <td>0.538</td>\n",
       "      <td>6.575</td>\n",
       "      <td>65.2</td>\n",
       "      <td>4.0900</td>\n",
       "      <td>1</td>\n",
       "      <td>296.0</td>\n",
       "      <td>15.3</td>\n",
       "      <td>396.90</td>\n",
       "      <td>4.98</td>\n",
       "      <td>24.0</td>\n",
       "    </tr>\n",
       "    <tr>\n",
       "      <th>1</th>\n",
       "      <td>0.02731</td>\n",
       "      <td>0.0</td>\n",
       "      <td>7.07</td>\n",
       "      <td>0</td>\n",
       "      <td>0.469</td>\n",
       "      <td>6.421</td>\n",
       "      <td>78.9</td>\n",
       "      <td>4.9671</td>\n",
       "      <td>2</td>\n",
       "      <td>242.0</td>\n",
       "      <td>17.8</td>\n",
       "      <td>396.90</td>\n",
       "      <td>9.14</td>\n",
       "      <td>21.6</td>\n",
       "    </tr>\n",
       "    <tr>\n",
       "      <th>2</th>\n",
       "      <td>0.02729</td>\n",
       "      <td>0.0</td>\n",
       "      <td>7.07</td>\n",
       "      <td>0</td>\n",
       "      <td>0.469</td>\n",
       "      <td>7.185</td>\n",
       "      <td>61.1</td>\n",
       "      <td>4.9671</td>\n",
       "      <td>2</td>\n",
       "      <td>242.0</td>\n",
       "      <td>17.8</td>\n",
       "      <td>392.83</td>\n",
       "      <td>4.03</td>\n",
       "      <td>34.7</td>\n",
       "    </tr>\n",
       "    <tr>\n",
       "      <th>3</th>\n",
       "      <td>0.03237</td>\n",
       "      <td>0.0</td>\n",
       "      <td>2.18</td>\n",
       "      <td>0</td>\n",
       "      <td>0.458</td>\n",
       "      <td>6.998</td>\n",
       "      <td>45.8</td>\n",
       "      <td>6.0622</td>\n",
       "      <td>3</td>\n",
       "      <td>222.0</td>\n",
       "      <td>18.7</td>\n",
       "      <td>394.63</td>\n",
       "      <td>2.94</td>\n",
       "      <td>33.4</td>\n",
       "    </tr>\n",
       "    <tr>\n",
       "      <th>4</th>\n",
       "      <td>0.06905</td>\n",
       "      <td>0.0</td>\n",
       "      <td>2.18</td>\n",
       "      <td>0</td>\n",
       "      <td>0.458</td>\n",
       "      <td>7.147</td>\n",
       "      <td>54.2</td>\n",
       "      <td>6.0622</td>\n",
       "      <td>3</td>\n",
       "      <td>222.0</td>\n",
       "      <td>18.7</td>\n",
       "      <td>396.90</td>\n",
       "      <td>5.33</td>\n",
       "      <td>36.2</td>\n",
       "    </tr>\n",
       "  </tbody>\n",
       "</table>\n",
       "</div>"
      ],
      "text/plain": [
       "      CRIM    ZN  INDUS  CHAS    NOX     RM   AGE     DIS  RAD    TAX  \\\n",
       "0  0.00632  18.0   2.31     0  0.538  6.575  65.2  4.0900    1  296.0   \n",
       "1  0.02731   0.0   7.07     0  0.469  6.421  78.9  4.9671    2  242.0   \n",
       "2  0.02729   0.0   7.07     0  0.469  7.185  61.1  4.9671    2  242.0   \n",
       "3  0.03237   0.0   2.18     0  0.458  6.998  45.8  6.0622    3  222.0   \n",
       "4  0.06905   0.0   2.18     0  0.458  7.147  54.2  6.0622    3  222.0   \n",
       "\n",
       "   PTRATIO       B  LSTAT  MEDV  \n",
       "0     15.3  396.90   4.98  24.0  \n",
       "1     17.8  396.90   9.14  21.6  \n",
       "2     17.8  392.83   4.03  34.7  \n",
       "3     18.7  394.63   2.94  33.4  \n",
       "4     18.7  396.90   5.33  36.2  "
      ]
     },
     "execution_count": 2,
     "metadata": {},
     "output_type": "execute_result"
    }
   ],
   "source": [
    "import pandas as pd\n",
    "\n",
    "df = pd.read_csv(\n",
    "    'https://archive.ics.uci.edu/ml/machine-learning-databases/'\n",
    "    'housing/housing.data',\n",
    "    header=None,\n",
    "    sep='\\s+')\n",
    "\n",
    "df.columns = [\n",
    "    'CRIM', 'ZN', 'INDUS', 'CHAS', 'NOX', 'RM', 'AGE', 'DIS', 'RAD', 'TAX',\n",
    "    'PTRATIO', 'B', 'LSTAT', 'MEDV'\n",
    "]\n",
    "df.head()"
   ]
  },
  {
   "cell_type": "markdown",
   "metadata": {},
   "source": [
    "* To select proper explanatory variables, we plot all the pairwise join distributions related to 'MEDV'.\n",
    "* 畫出每個feature跟MEDV的對應圖"
   ]
  },
  {
   "cell_type": "code",
   "execution_count": 3,
   "metadata": {},
   "outputs": [
    {
     "data": {
      "image/png": "[encoded data removed]",
      "text/plain": [
       "<Figure size 1440x864 with 15 Axes>"
      ]
     },
     "metadata": {
      "needs_background": "light"
     },
     "output_type": "display_data"
    }
   ],
   "source": [
    "import matplotlib.pyplot as plt\n",
    "x_vars = [\n",
    "    'CRIM', 'ZN', 'INDUS', 'CHAS', 'NOX', 'RM', 'AGE', 'DIS', 'RAD', 'TAX',\n",
    "    'PTRATIO', 'B', 'LSTAT'\n",
    "]\n",
    "\n",
    "_, subplot_arr = plt.subplots(3, 5, figsize=(20, 12))\n",
    "for idx, x_var in enumerate(x_vars):\n",
    "  x_idx = idx // 5\n",
    "  y_idx = idx % 5\n",
    "  subplot_arr[x_idx, y_idx].scatter(df[x_var], df['MEDV'])\n",
    "  subplot_arr[x_idx, y_idx].set_xlabel(x_var)\n",
    "\n",
    "plt.show()"
   ]
  },
  {
   "cell_type": "markdown",
   "metadata": {},
   "source": [
    "* Using this scatter-plot matrix, we can now quickly see how the data is distributed and whether it contains outliers. \n",
    "* For example, we can see that there is a linear relationship between **RM and the house prices MEDV**.(最左邊往下數第二個)\n",
    "* We can see in the histogram that both RM and MEDV variable seems to be normally distributed but MEDV contains several <a name='BackOutlier'>[**outliers**](#Outlier)</a>, i.e. values that deviate from the majority values a lot.\n",
    "* Let's use RM as the explanatory variable for our first linear regression task:"
   ]
  },
  {
   "cell_type": "markdown",
   "metadata": {},
   "source": [
    "# Fitting a Linear Regression Model via Scikit-learn\n",
    "* Scikit-learn has already implemented an **LinearRegression class** that we can make use of:"
   ]
  },
  {
   "cell_type": "code",
   "execution_count": 4,
   "metadata": {},
   "outputs": [
    {
     "name": "stdout",
     "output_type": "stream",
     "text": [
      "Slope (w_1): 9.10\n",
      "Intercept/bias (w_0): -34.67\n"
     ]
    }
   ],
   "source": [
    "from sklearn.linear_model import LinearRegression\n",
    "import numpy as np\n",
    "\n",
    "X_rm = df['RM'].values[:, np.newaxis]\n",
    "y = df['MEDV'].values\n",
    "\n",
    "slr = LinearRegression()\n",
    "# fit \n",
    "slr.fit(X_rm, y)\n",
    "\n",
    "y_pred = slr.predict(X_rm)\n",
    "\n",
    "print('Slope (w_1): %.2f' % slr.coef_[0])\n",
    "print('Intercept/bias (w_0): %.2f' % slr.intercept_)"
   ]
  },
  {
   "cell_type": "markdown",
   "metadata": {},
   "source": [
    "* We may interpret the slope 9.10 as the average increase in 'MEDV' due to 'RM'. And the intercept(截距) sometimes also has physical meaning, but not in this case. Since that there is no negative value of a house\n",
    "* Next, let's visualize how well the linear regression line fits the training data:"
   ]
  },
  {
   "cell_type": "code",
   "execution_count": 5,
   "metadata": {},
   "outputs": [
    {
     "data": {
      "image/png": "[encoded data removed]",
      "text/plain": [
       "<Figure size 432x288 with 1 Axes>"
      ]
     },
     "metadata": {
      "needs_background": "light"
     },
     "output_type": "display_data"
    }
   ],
   "source": [
    "# To simplify our codes, predefine a function to visualize to regression line and data scatter plot.\n",
    "def lin_regplot(X, y, model):\n",
    "  plt.scatter(X, y, c='blue')\n",
    "  plt.plot(X, model.predict(X), color='red', linewidth=2)\n",
    "  return\n",
    "\n",
    "\n",
    "lin_regplot(X_rm, y, slr)\n",
    "plt.xlabel('Average number of rooms [RM]')\n",
    "plt.ylabel('Price in $1000\\'s [MEDV]')\n",
    "plt.tight_layout()\n",
    "plt.show()"
   ]
  },
  {
   "cell_type": "markdown",
   "metadata": {},
   "source": [
    "* As we can see, the linear regression line reflects the general trend that house prices tend to increase with the number of rooms.\n",
    "* We also observe a curious line at y=50 , which suggests that the prices may have been clipped."
   ]
  },
  {
   "cell_type": "markdown",
   "metadata": {},
   "source": [
    "# Multivariate Cases & Performance Evaluation\n",
    "* If we have multiple explanatory variables, we can't visualize the linear regression hyperplane in a two-dimensional plot. In this case, we need some other ways to evaluate the trained model.\n",
    "* Let's proceed with the multivariate linear regression and evaluate the results using the mean squared error (MSE) and coefficient of determination ($R^{2}$):\n",
    "    $$MSE=\\frac{1}{N}\\sum_{i=1}^{N}(y^{(i)}-\\hat{y}^{(i)})^{2}$$\n",
    "    $$R^{2}=1-Relative Squared Error(RSE)=\\frac{\\sum_{i=1}^{N}(y^{(i)}-\\hat{y}^{i})^{2}}{\\sum_{i=1}^{N}(y^{(i)}-\\bar{y})^{2}}$$"
   ]
  },
  {
   "cell_type": "code",
   "execution_count": 6,
   "metadata": {},
   "outputs": [
    {
     "name": "stdout",
     "output_type": "stream",
     "text": [
      "#Training data points: 354\n",
      "#Testing data points: 152\n",
      "MSE train: 19.96, test: 27.20\n",
      "R^2 train: 0.76, test: 0.67\n"
     ]
    }
   ],
   "source": [
    "from sklearn.model_selection import train_test_split\n",
    "from sklearn.preprocessing import StandardScaler\n",
    "from sklearn.metrics import r2_score\n",
    "from sklearn.metrics import mean_squared_error\n",
    "\n",
    "X = df.iloc[:, :-1].values\n",
    "\n",
    "X_train, X_test, y_train, y_test = train_test_split(\n",
    "    X, y, test_size=0.3, random_state=0)\n",
    "\n",
    "print('#Training data points: %d' % X_train.shape[0])\n",
    "print('#Testing data points: %d' % X_test.shape[0])\n",
    "\n",
    "# Standardization\n",
    "\n",
    "sc = StandardScaler()\n",
    "sc.fit(X_train)\n",
    "X_train_std = sc.transform(X_train)\n",
    "X_test_std = sc.transform(X_test)\n",
    "\n",
    "# Training\n",
    "\n",
    "slr = LinearRegression()\n",
    "slr.fit(X_train_std, y_train)\n",
    "\n",
    "# Testing\n",
    "\n",
    "y_train_pred = slr.predict(X_train_std)\n",
    "y_test_pred = slr.predict(X_test_std)\n",
    "\n",
    "print('MSE train: %.2f, test: %.2f' %\n",
    "      (mean_squared_error(y_train, y_train_pred),\n",
    "       mean_squared_error(y_test, y_test_pred)))\n",
    "print('R^2 train: %.2f, test: %.2f' % (r2_score(y_train, y_train_pred),\n",
    "                                       r2_score(y_test, y_test_pred)))"
   ]
  },
  {
   "cell_type": "markdown",
   "metadata": {},
   "source": [
    "* A normal $R^{2}$ value should fall between between 0 and 1, and the higher $R^{2}$ the better.\n",
    "* In practice, we often consider $R^{2}$>0.8 as good. if $R^{2}$ is negative, it means that your model doesn't fit your data.\n",
    "* <font color='Red'>NOTE</font>:\n",
    "    * It is important to **standardize** the explanatory variables in multivariate regression in order to improve the conditioning of the cost function and to prevent attributes with large values from dominating."
   ]
  },
  {
   "cell_type": "markdown",
   "metadata": {},
   "source": [
    "# <a name='BackRP'>Residual Plot</a>\n",
    "* The [residual plot](#RP) is a commonly used **graphical analysis for a regression model to detect nonlinearity and outliers**.\n",
    "* In the case of a perfect prediction, the residuals would be exactly zero, which we will probably never encounter in realistic and practical applications.\n",
    "* However, for a good regression model, we would expect that the errors are randomly distributed and the residuals should be **randomly scattered around the centerline**.\n",
    "* If we see patterns in a residual plot, it means that our model is unable to capture some explanatory information, which is leaked into the residuals (as we can slightly see in the below). \n",
    "* Furthermore, we can also use residual plots to detect outliers, which are represented by the points with a large deviation from the centerline."
   ]
  },
  {
   "cell_type": "code",
   "execution_count": 7,
   "metadata": {},
   "outputs": [
    {
     "data": {
      "image/png": "[encoded data removed]",
      "text/plain": [
       "<Figure size 432x288 with 1 Axes>"
      ]
     },
     "metadata": {
      "needs_background": "light"
     },
     "output_type": "display_data"
    }
   ],
   "source": [
    "plt.scatter(\n",
    "    y_train_pred,\n",
    "    y_train_pred - y_train,\n",
    "    c='blue',\n",
    "    marker='o',\n",
    "    label='Training data')\n",
    "plt.scatter(\n",
    "    y_test_pred,\n",
    "    y_test_pred - y_test,\n",
    "    c='lightgreen',\n",
    "    marker='s',\n",
    "    label='Test data')\n",
    "plt.xlabel('Predicted values')\n",
    "plt.ylabel('Residuals')\n",
    "plt.legend(loc='upper left')\n",
    "plt.hlines(y=0, xmin=-10, xmax=50, lw=2, color='red')\n",
    "plt.xlim([-10, 50])\n",
    "plt.tight_layout()\n",
    "plt.show()"
   ]
  },
  {
   "cell_type": "markdown",
   "metadata": {},
   "source": [
    "# Implementing the Linear Regression\n",
    "* Now, let's implement our own linear regression model. It is almost the same as the Adaline classifier we have implemented:"
   ]
  },
  {
   "cell_type": "code",
   "execution_count": 8,
   "metadata": {},
   "outputs": [],
   "source": [
    "class LinearRegressionGD(object):\n",
    "\n",
    "    def __init__(self, eta=0.001, n_iter=20, random_state=1):\n",
    "        self.eta = eta\n",
    "        self.n_iter = n_iter\n",
    "        self.random_state = random_state\n",
    "\n",
    "    def fit(self, X, y):\n",
    "        rgen = np.random.RandomState(self.random_state)\n",
    "        self.w_ = rgen.normal(loc=0.0, scale=0.01, size=1 + X.shape[1])\n",
    "        self.cost_ = []\n",
    "\n",
    "        for i in range(self.n_iter):\n",
    "          output = self.net_input(X)\n",
    "          errors = (y - output)\n",
    "          self.w_[1:] += self.eta * X.T.dot(errors)\n",
    "          self.w_[0] += self.eta * errors.sum()\n",
    "          cost = (errors**2).sum() / 2.0\n",
    "          self.cost_.append(cost)\n",
    "        return self\n",
    "\n",
    "    def net_input(self, X):\n",
    "        return np.dot(X, self.w_[1:]) + self.w_[0]\n",
    "\n",
    "    def predict(self, X):\n",
    "        return self.net_input(X)"
   ]
  },
  {
   "cell_type": "markdown",
   "metadata": {},
   "source": [
    "* It is always a good practice to plot the cost as a function of the number of epochs (passes over the training dataset) when we are using optimization algorithms, such as gradient descent, to check for the convergence:"
   ]
  },
  {
   "cell_type": "code",
   "execution_count": 9,
   "metadata": {},
   "outputs": [
    {
     "data": {
      "image/png": "[encoded data removed]",
      "text/plain": [
       "<Figure size 432x288 with 1 Axes>"
      ]
     },
     "metadata": {
      "needs_background": "light"
     },
     "output_type": "display_data"
    }
   ],
   "source": [
    "from sklearn.preprocessing import StandardScaler\n",
    "\n",
    "sc_x = StandardScaler()\n",
    "sc_y = StandardScaler()\n",
    "X_rm_std = sc_x.fit_transform(X_rm)\n",
    "y_std = sc_y.fit_transform(y[:, np.newaxis]).flatten()\n",
    "\n",
    "lr = LinearRegressionGD()\n",
    "lr.fit(X_rm_std, y_std)\n",
    "\n",
    "plt.plot(range(1, lr.n_iter + 1), lr.cost_)\n",
    "plt.ylabel('Cost')\n",
    "plt.xlabel('Epoch')\n",
    "plt.tight_layout()\n",
    "plt.show()"
   ]
  },
  {
   "cell_type": "markdown",
   "metadata": {},
   "source": [
    "* Next, let's visualize how well the linear regression line fits the training data:"
   ]
  },
  {
   "cell_type": "code",
   "execution_count": 10,
   "metadata": {},
   "outputs": [
    {
     "data": {
      "image/png": "[encoded data removed]",
      "text/plain": [
       "<Figure size 432x288 with 1 Axes>"
      ]
     },
     "metadata": {
      "needs_background": "light"
     },
     "output_type": "display_data"
    }
   ],
   "source": [
    "lin_regplot(X_rm_std, y_std, lr)\n",
    "plt.xlabel('Average number of rooms [RM] (standardized)')\n",
    "plt.ylabel('Price in $1000\\'s [MEDV] (standardized)')\n",
    "plt.tight_layout()\n",
    "plt.show()"
   ]
  },
  {
   "cell_type": "markdown",
   "metadata": {},
   "source": [
    "* We can see that the overall result looks almost identical to the Scikit-learn implementation.\n",
    "* Note: However, that the implementation in Scikit-learn makes use of the LIBLINEAR library and advanced optimization algorithms that work better with unstandardized variables."
   ]
  },
  {
   "cell_type": "markdown",
   "metadata": {},
   "source": [
    "# <a name='PR'>Polynomial Regression</a>\n",
    "* Linear regression assumes a linear relationship between explanatory and response variables, which may not hold in the real world. \n",
    "* For example, by seeing the pairwise distribution plot again, we find that the LSTAT (% lower status of the population) attribute is clearly not linearly correlated with our target variable MEDV. \n",
    "* More information about [PolynomialFeatures](#PF)\n",
    "* Next, let's construct polynomial features and turn our linear regression models into the polynomial ones."
   ]
  },
  {
   "cell_type": "code",
   "execution_count": 11,
   "metadata": {},
   "outputs": [
    {
     "data": {
      "image/png": "[encoded data removed]",
      "text/plain": [
       "<Figure size 432x288 with 1 Axes>"
      ]
     },
     "metadata": {
      "needs_background": "light"
     },
     "output_type": "display_data"
    }
   ],
   "source": [
    "from sklearn.preprocessing import PolynomialFeatures\n",
    "\n",
    "X_lin = df['LSTAT'].values[:, np.newaxis]\n",
    "\n",
    "regr = LinearRegression()\n",
    "\n",
    "# Create quadratic features\n",
    "quadratic = PolynomialFeatures(degree=2)\n",
    "cubic = PolynomialFeatures(degree=3)\n",
    "X_quad = quadratic.fit_transform(X_lin)\n",
    "X_cubic = cubic.fit_transform(X_lin)\n",
    "\n",
    "# fit features\n",
    "lin_regr = LinearRegression()\n",
    "lin_regr.fit(X_lin, y)\n",
    "linear_r2 = r2_score(y, lin_regr.predict(X_lin))\n",
    "\n",
    "quad_regr = LinearRegression()\n",
    "quad_regr.fit(X_quad, y)\n",
    "quadratic_r2 = r2_score(y, quad_regr.predict(X_quad))\n",
    "\n",
    "cubic_regr = LinearRegression()\n",
    "cubic_regr.fit(X_cubic, y)\n",
    "cubic_r2 = r2_score(y, cubic_regr.predict(X_cubic))\n",
    "\n",
    "# plot results\n",
    "X_range = np.arange(X_lin.min(), X_lin.max(), 1)[:, np.newaxis]\n",
    "y_lin_pred = lin_regr.predict(X_range)\n",
    "y_quad_pred = quad_regr.predict(quadratic.fit_transform(X_range))\n",
    "y_cubic_pred = cubic_regr.predict(cubic.fit_transform(X_range))\n",
    "\n",
    "plt.scatter(X_lin, y, label='Training points', color='lightgray')\n",
    "\n",
    "plt.plot(\n",
    "    X_range,\n",
    "    y_lin_pred,\n",
    "    label='Linear (d=1), $R^2=%.2f$' % linear_r2,\n",
    "    color='blue',\n",
    "    lw=2,\n",
    "    linestyle=':')\n",
    "\n",
    "plt.plot(\n",
    "    X_range,\n",
    "    y_quad_pred,\n",
    "    label='Quadratic (d=2), $R^2=%.2f$' % quadratic_r2,\n",
    "    color='red',\n",
    "    lw=2,\n",
    "    linestyle='-')\n",
    "\n",
    "plt.plot(\n",
    "    X_range,\n",
    "    y_cubic_pred,\n",
    "    label='Cubic (d=3), $R^2=%.2f$' % cubic_r2,\n",
    "    color='green',\n",
    "    lw=2,\n",
    "    linestyle='--')\n",
    "\n",
    "plt.xlabel('% lower status of the population [LSTAT]')\n",
    "plt.ylabel('Price in $1000\\'s [MEDV]')\n",
    "plt.legend(loc='upper right')\n",
    "\n",
    "plt.tight_layout()\n",
    "plt.show()"
   ]
  },
  {
   "cell_type": "markdown",
   "metadata": {},
   "source": [
    "* In the resulting plot, we can see that the polynomial fit captures the relationship between the response and explanatory variable much better than the linear fit."
   ]
  },
  {
   "cell_type": "markdown",
   "metadata": {},
   "source": [
    "# Multivariate Cases\n",
    "* Next, we train polynomial regressors of different degrees using all features in the Housing dataset and compare their performance."
   ]
  },
  {
   "cell_type": "code",
   "execution_count": 12,
   "metadata": {},
   "outputs": [
    {
     "name": "stdout",
     "output_type": "stream",
     "text": [
      "[Linear]\n",
      "#Features: 13\n",
      "MSE train: 19.96, test: 27.20\n",
      "R^2 train: 0.76, test: 0.67\n",
      "\n",
      "[Quadratic]\n",
      "#Features: 105\n",
      "MSE train: 4.10, test: 29.43\n",
      "R^2 train: 0.95, test: 0.65\n",
      "\n",
      "[Cubic]\n",
      "#Features: 560\n",
      "MSE train: 0.00, test: 21611.28\n",
      "R^2 train: 1.00, test: -258.55\n"
     ]
    }
   ],
   "source": [
    "regr = LinearRegression()\n",
    "\n",
    "print('[Linear]')\n",
    "print('#Features: %d' % X_train_std.shape[1])\n",
    "regr = regr.fit(X_train_std, y_train)\n",
    "y_train_pred = regr.predict(X_train_std)\n",
    "y_test_pred = regr.predict(X_test_std)\n",
    "print('MSE train: %.2f, test: %.2f' %\n",
    "      (mean_squared_error(y_train, y_train_pred),\n",
    "       mean_squared_error(y_test, y_test_pred)))\n",
    "print('R^2 train: %.2f, test: %.2f' % (r2_score(y_train, y_train_pred),\n",
    "                                       r2_score(y_test, y_test_pred)))\n",
    "\n",
    "print('\\n[Quadratic]')\n",
    "X_quad_train = quadratic.fit_transform(X_train_std)\n",
    "X_quad_test = quadratic.fit_transform(X_test_std)\n",
    "print('#Features: %d' % X_quad_train.shape[1])\n",
    "regr = regr.fit(X_quad_train, y_train)\n",
    "y_train_pred = regr.predict(X_quad_train)\n",
    "y_test_pred = regr.predict(X_quad_test)\n",
    "print('MSE train: %.2f, test: %.2f' %\n",
    "      (mean_squared_error(y_train, y_train_pred),\n",
    "       mean_squared_error(y_test, y_test_pred)))\n",
    "print('R^2 train: %.2f, test: %.2f' % (r2_score(y_train, y_train_pred),\n",
    "                                       r2_score(y_test, y_test_pred)))\n",
    "\n",
    "print('\\n[Cubic]')\n",
    "X_cubic_train = cubic.fit_transform(X_train_std)\n",
    "X_cubic_test = cubic.fit_transform(X_test_std)\n",
    "print('#Features: %d' % X_cubic_train.shape[1])\n",
    "regr = regr.fit(X_cubic_train, y_train)\n",
    "y_train_pred = regr.predict(X_cubic_train)\n",
    "y_test_pred = regr.predict(X_cubic_test)\n",
    "print('MSE train: %.2f, test: %.2f' %\n",
    "      (mean_squared_error(y_train, y_train_pred),\n",
    "       mean_squared_error(y_test, y_test_pred)))\n",
    "print('R^2 train: %.2f, test: %.2f' % (r2_score(y_train, y_train_pred),\n",
    "                                       r2_score(y_test, y_test_pred)))"
   ]
  },
  {
   "cell_type": "markdown",
   "metadata": {},
   "source": [
    "* As the degree of polynomial goes up, the training errors decrease, **but not the testing errors**.\n",
    "* That is, **a low training error does not implies a low ~~training~~ testing error**. We will discuss this further in our next lecture."
   ]
  },
  {
   "cell_type": "markdown",
   "metadata": {},
   "source": [
    "# Decision Tree Regression\n",
    "* Polynomial regression is not the only way to capture the nonlinear relationship between the explanatory and target variables.\n",
    "* For example, we can modify the Decision Tree model for non-linear regression by simply replacing the entropy as the impurity measure of a node by the MSE.\n",
    "* Let's see how it works in our task:"
   ]
  },
  {
   "cell_type": "code",
   "execution_count": 13,
   "metadata": {},
   "outputs": [
    {
     "data": {
      "image/png": "[encoded data removed]",
      "text/plain": [
       "<Figure size 432x288 with 1 Axes>"
      ]
     },
     "metadata": {
      "needs_background": "light"
     },
     "output_type": "display_data"
    }
   ],
   "source": [
    "from sklearn.tree import DecisionTreeRegressor\n",
    "\n",
    "tree_3 = DecisionTreeRegressor(max_depth=3)\n",
    "tree_3.fit(X_lin, y)\n",
    "tree_4 = DecisionTreeRegressor(max_depth=4)\n",
    "tree_4.fit(X_lin, y)\n",
    "tree_5 = DecisionTreeRegressor(max_depth=5)\n",
    "tree_5.fit(X_lin, y)\n",
    "\n",
    "sort_idx = X_lin.flatten().argsort()\n",
    "\n",
    "plt.scatter(X_lin, y, color='lightgray')\n",
    "\n",
    "plt.plot(\n",
    "    X_lin[sort_idx],\n",
    "    tree_3.predict(X_lin)[sort_idx],\n",
    "    color='blue',\n",
    "    lw=2,\n",
    "    linestyle=':')\n",
    "plt.plot(\n",
    "    X_lin[sort_idx],\n",
    "    tree_4.predict(X_lin)[sort_idx],\n",
    "    color='red',\n",
    "    lw=2,\n",
    "    linestyle='-')\n",
    "\n",
    "plt.plot(\n",
    "    X_lin[sort_idx],\n",
    "    tree_5.predict(X_lin)[sort_idx],\n",
    "    color='green',\n",
    "    lw=2,\n",
    "    linestyle='--')\n",
    "\n",
    "plt.xlabel('% lower status of the population [LSTAT]')\n",
    "plt.ylabel('Price in $1000\\'s [MEDV]')\n",
    "plt.show()"
   ]
  },
  {
   "cell_type": "markdown",
   "metadata": {},
   "source": [
    "* As we can see from the resulting plot, the decision tree captures the general trend in the data.\n",
    "* However, a limitation of this model is that it does not capture the continuity and differentiability of the desired prediction."
   ]
  },
  {
   "cell_type": "markdown",
   "metadata": {},
   "source": [
    "# Random Forest Regression\n",
    "* We can also modify the Random Forest model for regression to take advantages of an ensemble technique and get a better generalization performance.\n",
    "* The basic random forests algorithm for regression is almost identical to the random forest algorithm for classification.\n",
    "* The only difference is that we use the MSE criterion to grow individual decision trees, and the predicted target variable is calculated as the average prediction over all decision trees. \n",
    "* Now, let's use all the features in the Housing dataset to train a random forest regression model:"
   ]
  },
  {
   "cell_type": "code",
   "execution_count": 14,
   "metadata": {},
   "outputs": [
    {
     "name": "stdout",
     "output_type": "stream",
     "text": [
      "MSE train: 1.41, test: 14.36\n",
      "R^2 train: 0.98, test: 0.83\n"
     ]
    },
    {
     "data": {
      "image/png": "[encoded data removed]",
      "text/plain": [
       "<Figure size 432x288 with 1 Axes>"
      ]
     },
     "metadata": {
      "needs_background": "light"
     },
     "output_type": "display_data"
    }
   ],
   "source": [
    "from sklearn.ensemble import RandomForestRegressor\n",
    "\n",
    "forest = RandomForestRegressor(\n",
    "    n_estimators=1000, criterion='mse', random_state=1, n_jobs=-1)\n",
    "forest.fit(X_train, y_train)\n",
    "y_train_pred = forest.predict(X_train)\n",
    "y_test_pred = forest.predict(X_test)\n",
    "\n",
    "print('MSE train: %.2f, test: %.2f' %\n",
    "      (mean_squared_error(y_train, y_train_pred),\n",
    "       mean_squared_error(y_test, y_test_pred)))\n",
    "print('R^2 train: %.2f, test: %.2f' % (r2_score(y_train, y_train_pred),\n",
    "                                       r2_score(y_test, y_test_pred)))\n",
    "\n",
    "# Residual plot\n",
    "plt.scatter(\n",
    "    y_train_pred,\n",
    "    y_train_pred - y_train,\n",
    "    c='blue',\n",
    "    marker='o',\n",
    "    label='Training data')\n",
    "plt.scatter(\n",
    "    y_test_pred, y_test_pred - y_test, c='green', marker='s', label='Test data')\n",
    "\n",
    "plt.xlabel('Predicted values')\n",
    "plt.ylabel('Residuals')\n",
    "plt.legend(loc='upper left')\n",
    "plt.hlines(y=0, xmin=-10, xmax=50, lw=2, color='red')\n",
    "plt.xlim([-10, 50])\n",
    "plt.tight_layout()\n",
    "plt.show()"
   ]
  },
  {
   "cell_type": "markdown",
   "metadata": {},
   "source": [
    "* We get better testing results ($R2=0.83$) than those of multivariate linear regression ($R2=0.67$) and see weaker patterns in the residual plot. \n",
    "* However, we still observe that the testing performance is much worse than the training one. "
   ]
  },
  {
   "cell_type": "markdown",
   "metadata": {},
   "source": [
    "* <font color='Red'>NOTE:</font> \n",
    "    * As in the classification, Decision Tree and Random Forest regression has a nice feature that they are not sensitive to the scaling of each explanatory variable. So we do **not standardize features** this time."
   ]
  },
  {
   "cell_type": "markdown",
   "metadata": {},
   "source": [
    "# <a name='remark'>Remarks</a>\n",
    "1. Regression models are basically [interpolation](#interpolation) equations over the range of the explanatory variables. So they may give bad predictions if we extrapolate outside this range.\n",
    "2. Be careful about the outliers, which may change your regression hyperplane undesirably.\n",
    "* (簡單說就是model有去fit training data的感覺，導致testing data沒那麼好)"
   ]
  },
  {
   "cell_type": "markdown",
   "metadata": {},
   "source": [
    "# Assignmant\n",
    "* In this assignment, you need to train regression models on [Beijing PM2.5 dataset](http://archive.ics.uci.edu/ml/datasets/Beijing+PM2.5+Data) in winter of 2014\n",
    "    1. You have to implement\n",
    "        * a Linear(Polynomial) regressor\n",
    "        * a Random Forest regressor\n",
    "    2. You need to show a residual plot for each of your model on both training data and testing data.\n",
    "    3. $R^{2}$ score need to be larger than 0.72 on testing data."
   ]
  },
  {
   "cell_type": "code",
   "execution_count": 15,
   "metadata": {},
   "outputs": [
    {
     "data": {
      "text/html": [
       "<div>\n",
       "<style scoped>\n",
       "    .dataframe tbody tr th:only-of-type {\n",
       "        vertical-align: middle;\n",
       "    }\n",
       "\n",
       "    .dataframe tbody tr th {\n",
       "        vertical-align: top;\n",
       "    }\n",
       "\n",
       "    .dataframe thead th {\n",
       "        text-align: right;\n",
       "    }\n",
       "</style>\n",
       "<table border=\"1\" class=\"dataframe\">\n",
       "  <thead>\n",
       "    <tr style=\"text-align: right;\">\n",
       "      <th></th>\n",
       "      <th>No</th>\n",
       "      <th>year</th>\n",
       "      <th>month</th>\n",
       "      <th>day</th>\n",
       "      <th>hour</th>\n",
       "      <th>pm2.5</th>\n",
       "      <th>DEWP</th>\n",
       "      <th>TEMP</th>\n",
       "      <th>PRES</th>\n",
       "      <th>cbwd</th>\n",
       "      <th>Iws</th>\n",
       "      <th>Is</th>\n",
       "      <th>Ir</th>\n",
       "    </tr>\n",
       "  </thead>\n",
       "  <tbody>\n",
       "    <tr>\n",
       "      <th>0</th>\n",
       "      <td>1</td>\n",
       "      <td>2010</td>\n",
       "      <td>1</td>\n",
       "      <td>1</td>\n",
       "      <td>0</td>\n",
       "      <td>NaN</td>\n",
       "      <td>-21</td>\n",
       "      <td>-11.0</td>\n",
       "      <td>1021.0</td>\n",
       "      <td>NW</td>\n",
       "      <td>1.79</td>\n",
       "      <td>0</td>\n",
       "      <td>0</td>\n",
       "    </tr>\n",
       "    <tr>\n",
       "      <th>1</th>\n",
       "      <td>2</td>\n",
       "      <td>2010</td>\n",
       "      <td>1</td>\n",
       "      <td>1</td>\n",
       "      <td>1</td>\n",
       "      <td>NaN</td>\n",
       "      <td>-21</td>\n",
       "      <td>-12.0</td>\n",
       "      <td>1020.0</td>\n",
       "      <td>NW</td>\n",
       "      <td>4.92</td>\n",
       "      <td>0</td>\n",
       "      <td>0</td>\n",
       "    </tr>\n",
       "    <tr>\n",
       "      <th>2</th>\n",
       "      <td>3</td>\n",
       "      <td>2010</td>\n",
       "      <td>1</td>\n",
       "      <td>1</td>\n",
       "      <td>2</td>\n",
       "      <td>NaN</td>\n",
       "      <td>-21</td>\n",
       "      <td>-11.0</td>\n",
       "      <td>1019.0</td>\n",
       "      <td>NW</td>\n",
       "      <td>6.71</td>\n",
       "      <td>0</td>\n",
       "      <td>0</td>\n",
       "    </tr>\n",
       "    <tr>\n",
       "      <th>3</th>\n",
       "      <td>4</td>\n",
       "      <td>2010</td>\n",
       "      <td>1</td>\n",
       "      <td>1</td>\n",
       "      <td>3</td>\n",
       "      <td>NaN</td>\n",
       "      <td>-21</td>\n",
       "      <td>-14.0</td>\n",
       "      <td>1019.0</td>\n",
       "      <td>NW</td>\n",
       "      <td>9.84</td>\n",
       "      <td>0</td>\n",
       "      <td>0</td>\n",
       "    </tr>\n",
       "    <tr>\n",
       "      <th>4</th>\n",
       "      <td>5</td>\n",
       "      <td>2010</td>\n",
       "      <td>1</td>\n",
       "      <td>1</td>\n",
       "      <td>4</td>\n",
       "      <td>NaN</td>\n",
       "      <td>-20</td>\n",
       "      <td>-12.0</td>\n",
       "      <td>1018.0</td>\n",
       "      <td>NW</td>\n",
       "      <td>12.97</td>\n",
       "      <td>0</td>\n",
       "      <td>0</td>\n",
       "    </tr>\n",
       "  </tbody>\n",
       "</table>\n",
       "</div>"
      ],
      "text/plain": [
       "   No  year  month  day  hour  pm2.5  DEWP  TEMP    PRES cbwd    Iws  Is  Ir\n",
       "0   1  2010      1    1     0    NaN   -21 -11.0  1021.0   NW   1.79   0   0\n",
       "1   2  2010      1    1     1    NaN   -21 -12.0  1020.0   NW   4.92   0   0\n",
       "2   3  2010      1    1     2    NaN   -21 -11.0  1019.0   NW   6.71   0   0\n",
       "3   4  2010      1    1     3    NaN   -21 -14.0  1019.0   NW   9.84   0   0\n",
       "4   5  2010      1    1     4    NaN   -20 -12.0  1018.0   NW  12.97   0   0"
      ]
     },
     "execution_count": 15,
     "metadata": {},
     "output_type": "execute_result"
    }
   ],
   "source": [
    "# Do not modify\n",
    "import pandas as pd\n",
    "import numpy as np\n",
    "import matplotlib.pyplot as plt\n",
    "from IPython.display import Image\n",
    "\n",
    "# inline plotting instead of popping out\n",
    "%matplotlib inline\n",
    "\n",
    "df = pd.read_csv(\n",
    "    'http://archive.ics.uci.edu/ml/machine-learning-databases/00381/PRSA_data_2010.1.1-2014.12.31.csv',\n",
    "    sep=',')\n",
    "df.head()"
   ]
  },
  {
   "cell_type": "markdown",
   "metadata": {},
   "source": [
    "* In the following, we select data that are recorded in winter between 2013 and 2014.\n",
    "* In the latter course, we will teach how to deal with those sample whose has nan (not a number) or non-scalar features. For now, we just remove them."
   ]
  },
  {
   "cell_type": "code",
   "execution_count": 16,
   "metadata": {
    "scrolled": true
   },
   "outputs": [
    {
     "data": {
      "text/html": [
       "<div>\n",
       "<style scoped>\n",
       "    .dataframe tbody tr th:only-of-type {\n",
       "        vertical-align: middle;\n",
       "    }\n",
       "\n",
       "    .dataframe tbody tr th {\n",
       "        vertical-align: top;\n",
       "    }\n",
       "\n",
       "    .dataframe thead th {\n",
       "        text-align: right;\n",
       "    }\n",
       "</style>\n",
       "<table border=\"1\" class=\"dataframe\">\n",
       "  <thead>\n",
       "    <tr style=\"text-align: right;\">\n",
       "      <th></th>\n",
       "      <th>No</th>\n",
       "      <th>year</th>\n",
       "      <th>month</th>\n",
       "      <th>day</th>\n",
       "      <th>hour</th>\n",
       "      <th>pm2.5</th>\n",
       "      <th>DEWP</th>\n",
       "      <th>TEMP</th>\n",
       "      <th>PRES</th>\n",
       "      <th>Iws</th>\n",
       "      <th>Is</th>\n",
       "      <th>Ir</th>\n",
       "    </tr>\n",
       "  </thead>\n",
       "  <tbody>\n",
       "    <tr>\n",
       "      <th>24</th>\n",
       "      <td>25</td>\n",
       "      <td>2010</td>\n",
       "      <td>1</td>\n",
       "      <td>2</td>\n",
       "      <td>0</td>\n",
       "      <td>129.0</td>\n",
       "      <td>-16</td>\n",
       "      <td>-4.0</td>\n",
       "      <td>1020.0</td>\n",
       "      <td>1.79</td>\n",
       "      <td>0</td>\n",
       "      <td>0</td>\n",
       "    </tr>\n",
       "    <tr>\n",
       "      <th>25</th>\n",
       "      <td>26</td>\n",
       "      <td>2010</td>\n",
       "      <td>1</td>\n",
       "      <td>2</td>\n",
       "      <td>1</td>\n",
       "      <td>148.0</td>\n",
       "      <td>-15</td>\n",
       "      <td>-4.0</td>\n",
       "      <td>1020.0</td>\n",
       "      <td>2.68</td>\n",
       "      <td>0</td>\n",
       "      <td>0</td>\n",
       "    </tr>\n",
       "    <tr>\n",
       "      <th>26</th>\n",
       "      <td>27</td>\n",
       "      <td>2010</td>\n",
       "      <td>1</td>\n",
       "      <td>2</td>\n",
       "      <td>2</td>\n",
       "      <td>159.0</td>\n",
       "      <td>-11</td>\n",
       "      <td>-5.0</td>\n",
       "      <td>1021.0</td>\n",
       "      <td>3.57</td>\n",
       "      <td>0</td>\n",
       "      <td>0</td>\n",
       "    </tr>\n",
       "    <tr>\n",
       "      <th>27</th>\n",
       "      <td>28</td>\n",
       "      <td>2010</td>\n",
       "      <td>1</td>\n",
       "      <td>2</td>\n",
       "      <td>3</td>\n",
       "      <td>181.0</td>\n",
       "      <td>-7</td>\n",
       "      <td>-5.0</td>\n",
       "      <td>1022.0</td>\n",
       "      <td>5.36</td>\n",
       "      <td>1</td>\n",
       "      <td>0</td>\n",
       "    </tr>\n",
       "    <tr>\n",
       "      <th>28</th>\n",
       "      <td>29</td>\n",
       "      <td>2010</td>\n",
       "      <td>1</td>\n",
       "      <td>2</td>\n",
       "      <td>4</td>\n",
       "      <td>138.0</td>\n",
       "      <td>-7</td>\n",
       "      <td>-5.0</td>\n",
       "      <td>1022.0</td>\n",
       "      <td>6.25</td>\n",
       "      <td>2</td>\n",
       "      <td>0</td>\n",
       "    </tr>\n",
       "  </tbody>\n",
       "</table>\n",
       "</div>"
      ],
      "text/plain": [
       "    No  year  month  day  hour  pm2.5  DEWP  TEMP    PRES   Iws  Is  Ir\n",
       "24  25  2010      1    2     0  129.0   -16  -4.0  1020.0  1.79   0   0\n",
       "25  26  2010      1    2     1  148.0   -15  -4.0  1020.0  2.68   0   0\n",
       "26  27  2010      1    2     2  159.0   -11  -5.0  1021.0  3.57   0   0\n",
       "27  28  2010      1    2     3  181.0    -7  -5.0  1022.0  5.36   1   0\n",
       "28  29  2010      1    2     4  138.0    -7  -5.0  1022.0  6.25   2   0"
      ]
     },
     "execution_count": 16,
     "metadata": {},
     "output_type": "execute_result"
    }
   ],
   "source": [
    "# Do not modify\n",
    "df = df.drop(['cbwd'], axis=1)  # drop non-scalar feature\n",
    "df = df.dropna(axis=0, how='any')  # drop samples who has nan feature\n",
    "df.head()"
   ]
  },
  {
   "cell_type": "code",
   "execution_count": 17,
   "metadata": {
    "scrolled": true
   },
   "outputs": [
    {
     "data": {
      "text/html": [
       "<div>\n",
       "<style scoped>\n",
       "    .dataframe tbody tr th:only-of-type {\n",
       "        vertical-align: middle;\n",
       "    }\n",
       "\n",
       "    .dataframe tbody tr th {\n",
       "        vertical-align: top;\n",
       "    }\n",
       "\n",
       "    .dataframe thead th {\n",
       "        text-align: right;\n",
       "    }\n",
       "</style>\n",
       "<table border=\"1\" class=\"dataframe\">\n",
       "  <thead>\n",
       "    <tr style=\"text-align: right;\">\n",
       "      <th></th>\n",
       "      <th>No</th>\n",
       "      <th>year</th>\n",
       "      <th>month</th>\n",
       "      <th>day</th>\n",
       "      <th>hour</th>\n",
       "      <th>DEWP</th>\n",
       "      <th>TEMP</th>\n",
       "      <th>PRES</th>\n",
       "      <th>Iws</th>\n",
       "      <th>Is</th>\n",
       "      <th>Ir</th>\n",
       "    </tr>\n",
       "  </thead>\n",
       "  <tbody>\n",
       "    <tr>\n",
       "      <th>34320</th>\n",
       "      <td>34321</td>\n",
       "      <td>2013</td>\n",
       "      <td>12</td>\n",
       "      <td>1</td>\n",
       "      <td>0</td>\n",
       "      <td>-13</td>\n",
       "      <td>-2.0</td>\n",
       "      <td>1026.0</td>\n",
       "      <td>0.89</td>\n",
       "      <td>0</td>\n",
       "      <td>0</td>\n",
       "    </tr>\n",
       "    <tr>\n",
       "      <th>34321</th>\n",
       "      <td>34322</td>\n",
       "      <td>2013</td>\n",
       "      <td>12</td>\n",
       "      <td>1</td>\n",
       "      <td>1</td>\n",
       "      <td>-14</td>\n",
       "      <td>-3.0</td>\n",
       "      <td>1025.0</td>\n",
       "      <td>3.13</td>\n",
       "      <td>0</td>\n",
       "      <td>0</td>\n",
       "    </tr>\n",
       "    <tr>\n",
       "      <th>34322</th>\n",
       "      <td>34323</td>\n",
       "      <td>2013</td>\n",
       "      <td>12</td>\n",
       "      <td>1</td>\n",
       "      <td>2</td>\n",
       "      <td>-13</td>\n",
       "      <td>-3.0</td>\n",
       "      <td>1025.0</td>\n",
       "      <td>0.89</td>\n",
       "      <td>0</td>\n",
       "      <td>0</td>\n",
       "    </tr>\n",
       "    <tr>\n",
       "      <th>34323</th>\n",
       "      <td>34324</td>\n",
       "      <td>2013</td>\n",
       "      <td>12</td>\n",
       "      <td>1</td>\n",
       "      <td>3</td>\n",
       "      <td>-13</td>\n",
       "      <td>-4.0</td>\n",
       "      <td>1025.0</td>\n",
       "      <td>0.89</td>\n",
       "      <td>0</td>\n",
       "      <td>0</td>\n",
       "    </tr>\n",
       "    <tr>\n",
       "      <th>34324</th>\n",
       "      <td>34325</td>\n",
       "      <td>2013</td>\n",
       "      <td>12</td>\n",
       "      <td>1</td>\n",
       "      <td>4</td>\n",
       "      <td>-13</td>\n",
       "      <td>-3.0</td>\n",
       "      <td>1025.0</td>\n",
       "      <td>1.78</td>\n",
       "      <td>0</td>\n",
       "      <td>0</td>\n",
       "    </tr>\n",
       "  </tbody>\n",
       "</table>\n",
       "</div>"
      ],
      "text/plain": [
       "          No  year  month  day  hour  DEWP  TEMP    PRES   Iws  Is  Ir\n",
       "34320  34321  2013     12    1     0   -13  -2.0  1026.0  0.89   0   0\n",
       "34321  34322  2013     12    1     1   -14  -3.0  1025.0  3.13   0   0\n",
       "34322  34323  2013     12    1     2   -13  -3.0  1025.0  0.89   0   0\n",
       "34323  34324  2013     12    1     3   -13  -4.0  1025.0  0.89   0   0\n",
       "34324  34325  2013     12    1     4   -13  -3.0  1025.0  1.78   0   0"
      ]
     },
     "execution_count": 17,
     "metadata": {},
     "output_type": "execute_result"
    }
   ],
   "source": [
    "# Do not modify\n",
    "idx = np.logical_or(\n",
    "    np.logical_and(df['year'].values == 2014, df['month'].values < 3),\n",
    "    np.logical_and(df['year'].values == 2013, df['month'].values == 12))\n",
    "X = df.loc[idx].drop('pm2.5', axis=1)\n",
    "y = df.loc[idx]['pm2.5'].values\n",
    "X.head()"
   ]
  },
  {
   "cell_type": "markdown",
   "metadata": {},
   "source": [
    "# Random Forest regressor"
   ]
  },
  {
   "cell_type": "code",
   "execution_count": 18,
   "metadata": {},
   "outputs": [
    {
     "name": "stderr",
     "output_type": "stream",
     "text": [
      "/home/epl002/DL/env-name/lib/python3.5/site-packages/sklearn/preprocessing/data.py:625: DataConversionWarning: Data with input dtype int64, float64 were all converted to float64 by StandardScaler.\n",
      "  return self.partial_fit(X, y)\n",
      "/home/epl002/DL/env-name/lib/python3.5/site-packages/sklearn/base.py:462: DataConversionWarning: Data with input dtype int64, float64 were all converted to float64 by StandardScaler.\n",
      "  return self.fit(X, **fit_params).transform(X)\n",
      "/home/epl002/DL/env-name/lib/python3.5/site-packages/ipykernel_launcher.py:13: DataConversionWarning: Data with input dtype int64, float64 were all converted to float64 by StandardScaler.\n",
      "  del sys.path[0]\n"
     ]
    }
   ],
   "source": [
    "from sklearn.model_selection import train_test_split\n",
    "from sklearn.preprocessing import StandardScaler\n",
    "from sklearn.metrics import r2_score\n",
    "from sklearn.metrics import mean_squared_error\n",
    "\n",
    "X_train, X_test, y_train, y_test = train_test_split(\n",
    "    X, y, test_size=0.3, random_state=0)\n",
    "# Standardization\n",
    "\n",
    "sc = StandardScaler()\n",
    "sc_y = StandardScaler()\n",
    "X_train_std = sc.fit_transform(X_train)\n",
    "X_test_std = sc.transform(X_test)"
   ]
  },
  {
   "cell_type": "code",
   "execution_count": 19,
   "metadata": {},
   "outputs": [
    {
     "name": "stdout",
     "output_type": "stream",
     "text": [
      "R^2 train: 0.99, test: 0.90\n"
     ]
    }
   ],
   "source": [
    "from sklearn.ensemble import RandomForestRegressor\n",
    "\n",
    "forest = RandomForestRegressor(\n",
    "    n_estimators=1000, criterion='mse', random_state=1, n_jobs=-1)\n",
    "forest.fit(X_train_std, y_train)\n",
    "\n",
    "y_train_pred = forest.predict(X_train_std)\n",
    "y_test_pred = forest.predict(X_test_std)\n",
    "\n",
    "print('R^2 train: %.2f, test: %.2f' % (r2_score(y_train, y_train_pred),\n",
    "                                       r2_score(y_test, y_test_pred)))"
   ]
  },
  {
   "cell_type": "code",
   "execution_count": 20,
   "metadata": {},
   "outputs": [
    {
     "data": {
      "image/png": "[encoded data removed]",
      "text/plain": [
       "<Figure size 432x288 with 1 Axes>"
      ]
     },
     "metadata": {
      "needs_background": "light"
     },
     "output_type": "display_data"
    }
   ],
   "source": [
    "# Residual plot\n",
    "plt.scatter(\n",
    "    y_train_pred,\n",
    "    y_train_pred - y_train,\n",
    "    c='blue',\n",
    "    marker='o',\n",
    "    label='Training data')\n",
    "plt.scatter(\n",
    "    y_test_pred, y_test_pred - y_test, c='green', marker='s', label='Test data')\n",
    "\n",
    "plt.xlabel('Predicted values')\n",
    "plt.ylabel('Residuals')\n",
    "plt.legend(loc='upper left')\n",
    "plt.hlines(y=0, xmin=-10, xmax=50, lw=2, color='red')\n",
    "plt.xlim([-10, 50])\n",
    "plt.tight_layout()\n",
    "plt.show()"
   ]
  },
  {
   "cell_type": "markdown",
   "metadata": {},
   "source": [
    "# Linear(Polynomial) regressor"
   ]
  },
  {
   "cell_type": "markdown",
   "metadata": {},
   "source": [
    "* <font color='Red'>NOTE:</font>\n",
    "    * Tune learning\n",
    "    * Tune iteration\n",
    "    * Feature extration \n",
    "    * Change the dimension of PolynomialFeatures function"
   ]
  },
  {
   "cell_type": "code",
   "execution_count": 21,
   "metadata": {},
   "outputs": [],
   "source": [
    "class LinearRegressionGD(object):\n",
    "\n",
    "    def __init__(self, eta=0.0000000115, n_iter=4000000, random_state=1):\n",
    "        self.eta = eta\n",
    "        self.n_iter = n_iter\n",
    "        self.random_state = random_state\n",
    "\n",
    "    def fit(self, X, y):\n",
    "        rgen = np.random.RandomState(self.random_state)\n",
    "        self.w_ = rgen.normal(loc=0.0, scale=0.01, size=1 + X.shape[1])\n",
    "        self.cost_ = []\n",
    "        for i in range(self.n_iter):\n",
    "            output = self.net_input(X)\n",
    "            errors = (y - output)\n",
    "            self.w_[1:] += self.eta * X.T.dot(errors)\n",
    "            self.w_[0] += self.eta * errors.sum()\n",
    "            cost = (errors**2).sum() / 2.0\n",
    "            self.cost_.append(cost)\n",
    "        return self\n",
    "\n",
    "    def net_input(self, X):\n",
    "        return np.dot(X, self.w_[1:]) + self.w_[0]\n",
    "\n",
    "    def predict(self, X):\n",
    "        return self.net_input(X)"
   ]
  },
  {
   "cell_type": "code",
   "execution_count": 22,
   "metadata": {},
   "outputs": [],
   "source": [
    "importances = forest.feature_importances_\n",
    "# get sort indices in descending order\n",
    "indices = np.argsort(importances)[::-1]"
   ]
  },
  {
   "cell_type": "code",
   "execution_count": 23,
   "metadata": {},
   "outputs": [
    {
     "name": "stdout",
     "output_type": "stream",
     "text": [
      " 1) DEWP                           0.460799\n",
      " 2) No                             0.233257\n",
      " 3) day                            0.130054\n",
      " 4) PRES                           0.052546\n",
      " 5) Iws                            0.050156\n",
      " 6) TEMP                           0.032446\n",
      " 7) hour                           0.029527\n",
      " 8) month                          0.008861\n",
      " 9) year                           0.001695\n",
      "10) Is                             0.000422\n",
      "11) Ir                             0.000238\n"
     ]
    }
   ],
   "source": [
    "for f in range(X_train.shape[1]):\n",
    "    print(\"%2d) %-*s %f\" % (f + 1, 30, \n",
    "                            X.columns.values[indices[f]], \n",
    "                            importances[indices[f]]))"
   ]
  },
  {
   "cell_type": "code",
   "execution_count": 24,
   "metadata": {},
   "outputs": [],
   "source": [
    "X = X.drop('Is', axis=1)\n",
    "X = X.drop('Ir', axis=1)"
   ]
  },
  {
   "cell_type": "code",
   "execution_count": 25,
   "metadata": {},
   "outputs": [
    {
     "name": "stderr",
     "output_type": "stream",
     "text": [
      "/home/epl002/DL/env-name/lib/python3.5/site-packages/sklearn/preprocessing/data.py:625: DataConversionWarning: Data with input dtype int64, float64 were all converted to float64 by StandardScaler.\n",
      "  return self.partial_fit(X, y)\n",
      "/home/epl002/DL/env-name/lib/python3.5/site-packages/sklearn/base.py:462: DataConversionWarning: Data with input dtype int64, float64 were all converted to float64 by StandardScaler.\n",
      "  return self.fit(X, **fit_params).transform(X)\n",
      "/home/epl002/DL/env-name/lib/python3.5/site-packages/ipykernel_launcher.py:9: DataConversionWarning: Data with input dtype int64, float64 were all converted to float64 by StandardScaler.\n",
      "  if __name__ == '__main__':\n"
     ]
    }
   ],
   "source": [
    "X_train, X_test, y_train, y_test = train_test_split(\n",
    "    X, y, test_size=0.3, random_state=0)\n",
    "\n",
    "# Standardization\n",
    "\n",
    "sc = StandardScaler()\n",
    "sc_y = StandardScaler()\n",
    "X_train_std = sc.fit_transform(X_train)\n",
    "X_test_std = sc.transform(X_test)"
   ]
  },
  {
   "cell_type": "markdown",
   "metadata": {},
   "source": [
    "* 需要長時間的等待，Be patient"
   ]
  },
  {
   "cell_type": "code",
   "execution_count": 26,
   "metadata": {},
   "outputs": [
    {
     "name": "stdout",
     "output_type": "stream",
     "text": [
      "\n",
      "[degree=4]\n",
      "R^2 train: 0.84, test: 0.79\n"
     ]
    }
   ],
   "source": [
    "regr = LinearRegressionGD()\n",
    "\n",
    "cubic = PolynomialFeatures(degree=4)\n",
    "X_cubic = cubic.fit_transform(X_train_std)\n",
    "\n",
    "print('\\n[degree=4]')\n",
    "X_cubic_train = cubic.fit_transform(X_train_std)\n",
    "X_cubic_test = cubic.fit_transform(X_test_std)\n",
    "regr = regr.fit(X_cubic_train, y_train)\n",
    "y_train_pred = regr.predict(X_cubic_train)\n",
    "y_test_pred = regr.predict(X_cubic_test)\n",
    "print('R^2 train: %.2f, test: %.2f' % (r2_score(y_train, y_train_pred),\n",
    "                                       r2_score(y_test, y_test_pred)))"
   ]
  },
  {
   "cell_type": "code",
   "execution_count": 27,
   "metadata": {},
   "outputs": [
    {
     "data": {
      "image/png": "[encoded data removed]",
      "text/plain": [
       "<Figure size 432x288 with 1 Axes>"
      ]
     },
     "metadata": {
      "needs_background": "light"
     },
     "output_type": "display_data"
    }
   ],
   "source": [
    "# Residual plot\n",
    "plt.scatter(\n",
    "    y_train_pred,\n",
    "    y_train_pred - y_train,\n",
    "    c='blue',\n",
    "    marker='o',\n",
    "    label='Training data')\n",
    "plt.scatter(\n",
    "    y_test_pred, y_test_pred - y_test, c='green', marker='s', label='Test data')\n",
    "\n",
    "plt.xlabel('Predicted values')\n",
    "plt.ylabel('Residuals')\n",
    "plt.legend(loc='upper left')\n",
    "plt.hlines(y=0, xmin=-10, xmax=50, lw=2, color='red')\n",
    "plt.xlim([-10, 50])\n",
    "plt.tight_layout()\n",
    "plt.show()"
   ]
  },
  {
   "cell_type": "markdown",
   "metadata": {},
   "source": [
    "# <a name='SSE'>Sum of squared errors (SSE)</a>\n",
    "* 簡單講就是觀察值$y$跟$\\hat{y} (=a+bx)$之間的差，也就是殘差平方和\n",
    "    $$SSE = \\sum_{i=1}^{n}{(y_{i}-\\hat{y_{i}})}$$\n",
    "* [Reference](https://en.wikipedia.org/wiki/Residual_sum_of_squares)\n",
    "* [Go to Linear Regression](#LR)"
   ]
  },
  {
   "cell_type": "markdown",
   "metadata": {},
   "source": [
    "# <a name='outlier'>Outlier</a>\n",
    "* 稱異常值，是指其資料顯著地別於其它的資料物件，且它是因為不同的機制所產生的\n",
    "* 有時我們把outlier稱為abnormal data，但並非所有的outlier都要排除\n",
    "* 例如在信用卡詐騙偵測(credit card fraud detection)的分析上，客戶的abnormal行為就是分析上重要的特點\n",
    "* 異常值(Outlier)可大致分為三大類\n",
    "    * Global outlier:\n",
    "        * 是指該資料有顯著地別於其它的資料集合，大多數的outlier detection都是在於尋找這類的異常值\n",
    "    * Contextual outlier\n",
    "        * contextual outlier需根據資料的特定內容(contex)來進行分析\n",
    "        * 例如:\"今天的溫度是38度\"需看這是在什麼'時間'及'地點'才能決定是否為異常值\n",
    "    * Collective outlier\n",
    "        * 個別的資料並沒有異常，但如果這些資料都發生在特定的子集合上時，則可能為異常\n",
    "        * 異常偵測上，我們也需要了解背景資料，才能有效分析\n",
    "        * 例如:\"每個月缺料10次\"也許不是異常值，但如果這10次缺料都發生在同一天，這就是很明顯的異常了\n",
    "* [Reference](http://arthur0615.pixnet.net/blog/post/91841705-%E4%BB%80%E9%BA%BC%E6%98%AFoutlier%3F)\n",
    "* [Go to Outlier](#BackOutlier)"
   ]
  },
  {
   "cell_type": "markdown",
   "metadata": {},
   "source": [
    "# <a name='PF'>PolynomialFeatures</a>\n",
    "* Parameters:\n",
    "    * degree : integer\n",
    "        * The degree of the polynomial features. Default = 2.\n",
    "        * degree的vlaue = 你需要幾次式的函數\n",
    "        * 例如: degree=2，2次函數\n",
    "    * interaction_only : boolean, default = False\n",
    "        * If true, only interaction features are produced: features that are products of at most degree distinct input features (so not x[1] ** 2, x[0] * x[2] ** 3, etc.).\n",
    "        * 簡單說如果為True就不會有自己的次方項，如x平方、三次方等\n",
    "    * include_bias : boolean\n",
    "        * If True (default), then include a bias column, the feature in which all polynomial powers are zero (i.e. a column of ones - acts as an intercept term in a linear model).\n",
    "        * 若為True，則會有常數項\n",
    "* Attributes:\n",
    "    * powers_ : array, shape (n_output_features, n_input_features)\n",
    "        * powers_[i, j] is the exponent of the jth input in the ith output.\n",
    "        * n_input_features_ : (int) The total number of input features.輸入的特徵個數\n",
    "        * n_output_features_ : (int) The total number of polynomial output features. The number of output features is computed by iterating over all suitably sized combinations of input features. \n",
    "* [Reference](https://scikit-learn.org/stable/modules/generated/sklearn.preprocessing.PolynomialFeatures.html)\n",
    "* [Polynomial Regression](#PR)"
   ]
  },
  {
   "cell_type": "markdown",
   "metadata": {},
   "source": [
    "# <a name='interpolation'>Interpolation</a>\n",
    "* 又稱「內插」\n",
    "* 找一個函數，完全符合手邊的一堆數據。此函數稱作「內插函數」。\n",
    "* 換句話說，找到一個函數，穿過所有給定的函數點。外觀就像是在相鄰的函數點之間，插滿函數點\n",
    "* [Reference](http://www.csie.ntnu.edu.tw/~u91029/Interpolation.html)\n",
    "* [Go to Remarks](#remark)"
   ]
  },
  {
   "cell_type": "markdown",
   "metadata": {},
   "source": [
    "# <a name='RP'>Residual Plot</a>\n",
    "* 稱殘差圖，來估計觀察或預測到的誤差error(殘差residuals)與隨機誤差(stochastic error)是否一致\n",
    "* 例如: 丟一個骰子，當你丟出去一個六面的骰子時，你不應該能夠預測得到哪面點數是向上的。然而，你卻可以評估在一系列投擲後，正面向上的數字是否遵循一個隨機模式，心中就會想象出一個隨機散佈的殘差圖\n",
    "* 假如有人背著你對骰子做了點手腳，讓六點更頻繁的出現向上，這時你心中的殘差圖看上去就似乎有規律可循，從而不得不修改心中的模型，讓你狐疑骰子一定有問題\n",
    "* 相同的原則也適用於迴歸模型。你不應該能夠預測任何給定的觀察或預測結果，你需要確定殘差是否與隨機誤差相互呈現一致性，就像丟骰子一樣，殘差若整體呈現“很古怪”的模式，你就需要回頭修改你的迴歸模型了\n",
    "* 殘差不應該成片的很高或很低，而是在擬合值的範圍內，殘差應該以0為中心。換句話説，模型的擬合應該平均散佈在被擬合值點附近。而且，在OLS理論中，假設隨機誤差產生的是正態分佈的殘差。因此，殘差應該是以對稱的模式，並且在整個擬合範圍內具有恆定均勻的擴散\n",
    "* 例如:\n",
    "<img src='https://mmbiz.qpic.cn/mmbiz_png/yUJQdJT8rHIicOFonodKicFdqj7SEPwjeI7fN8icficuew9UVsibRvzbBTHxFSrbk80ZvFl8JAgNb9rZQXUQpxxkCiag/0?' width='500'></img>\n",
    "* 殘差不應該包含任何可預測的信息，例如:\n",
    "<img src='https://mmbiz.qpic.cn/mmbiz_png/yUJQdJT8rHIicOFonodKicFdqj7SEPwjeI09TH1d0KwwJdfibWiavKibqwbqUDt4H8Hs3f5ANxbX7lhmWricf3UPHfvg/0?' width='500'></img>\n",
    "* 上圖中，你就可以根據擬合值來預測殘差的非零值，正確殘差圖不僅要體現出隨機性(random)，還要體現不可預測性(unpredictable)\n",
    "* [Reference](https://hk.saowen.com/a/7a9018ba05d692423f799f7fd5e129b49323e1a1a88c78cb55f1d7ee8700acc6)\n",
    "* [Go to Residual Plot](#BackRP)"
   ]
  },
  {
   "cell_type": "code",
   "execution_count": null,
   "metadata": {},
   "outputs": [],
   "source": []
  }
 ],
 "metadata": {
  "kernelspec": {
   "display_name": "Python 3",
   "language": "python",
   "name": "python3"
  },
  "language_info": {
   "codemirror_mode": {
    "name": "ipython",
    "version": 3
   },
   "file_extension": ".py",
   "mimetype": "text/x-python",
   "name": "python",
   "nbconvert_exporter": "python",
   "pygments_lexer": "ipython3",
   "version": "3.5.2"
  }
 },
 "nbformat": 4,
 "nbformat_minor": 2
}
