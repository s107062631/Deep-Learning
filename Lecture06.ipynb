{
 "cells": [
  {
   "cell_type": "markdown",
   "metadata": {},
   "source": [
    "# Logistic Regression and Evaluation Metrics"
   ]
  },
  {
   "cell_type": "code",
   "execution_count": 1,
   "metadata": {},
   "outputs": [],
   "source": [
    "from IPython.display import Image\n",
    "\n",
    "# inline plotting instead of popping out\n",
    "%matplotlib inline\n",
    "import matplotlib\n",
    "matplotlib.rcParams.update({'font.size': 22})\n",
    "\n",
    "# load utility classes/functions that has been taught in previous labs\n",
    "# e.g., plot_decision_regions()\n",
    "import os, sys\n",
    "module_path = os.path.abspath(os.path.join('.'))\n",
    "sys.path.append(module_path)\n",
    "from lib import *"
   ]
  },
  {
   "cell_type": "markdown",
   "metadata": {},
   "source": [
    "# <a name='BackLR'>Logistic Regression</a>\n",
    "* [Logistic Regression](#LR) is a **classification algorithm** in combination with a decision rule that makes dichotomous the predicted probabilities of the outcome. \n",
    "* Currently, it is one of the most widely used classification models in Machine Learning.\n",
    "* As discussed in the lecture, Logistic Regression predicts the label y^ of a given point x by\n",
    "$$\\hat {y}=arg max_{y}P(y|x;w)$$\n",
    "* The condition probability is defined as\n",
    "$$P(y|x;w)=σ(w^{⊤}x)^{y′}[1−σ(w^{⊤}x)]^{(1−y′)}$$\n",
    "where $y′=\\frac{y+1}{2}$. \n",
    "* Let's first plot the logistic function σ over $z=w^{⊤}x$\n",
    "$$σ(z)=\\frac{exp(z)}{exp(z)+1}=\\frac{1}{1+exp(−z)}$$"
   ]
  },
  {
   "cell_type": "code",
   "execution_count": 2,
   "metadata": {},
   "outputs": [
    {
     "data": {
      "image/png": "[encoded data removed]",
      "text/plain": [
       "<matplotlib.figure.Figure at 0x7f49952f86a0>"
      ]
     },
     "metadata": {},
     "output_type": "display_data"
    }
   ],
   "source": [
    "import matplotlib.pyplot as plt\n",
    "import numpy as np\n",
    "\n",
    "def logistic(z):\n",
    "    return 1.0 / (1.0 + np.exp(-z))\n",
    "\n",
    "z = np.arange(-7, 7, 0.1)\n",
    "sigma = logistic(z)\n",
    "\n",
    "fig, ax = plt.subplots(figsize=(8,5))\n",
    "plt.plot(z, sigma)\n",
    "plt.axvline(0.0, color='k')\n",
    "plt.ylim(-0.1, 1.1)\n",
    "plt.xlabel('z')\n",
    "plt.ylabel('$\\sigma(z)$')\n",
    "plt.title('Logistic function')\n",
    "plt.hlines(y=1.0, xmin=-7, xmax=7, color='red', linewidth = 1, linestyle = '--')\n",
    "plt.hlines(y=0.5, xmin=-7, xmax=7, color='red', linewidth = 1, linestyle = '--')\n",
    "plt.hlines(y=0, xmin=-7, xmax=7, color='red', linewidth = 1, linestyle = '--')\n",
    "plt.tight_layout()\n",
    "for item in (ax.get_yticklabels()):\n",
    "    item.set_fontsize(20)\n",
    "plt.savefig('./output/fig-logistic.png', dpi=300)\n",
    "plt.show()"
   ]
  },
  {
   "cell_type": "markdown",
   "metadata": {},
   "source": [
    "* We can see that σ(z) approaches 1 when (z→∞), since e−z becomes very small for large values of z. Similarly, σ(z) goes downward to 0 for z→−∞ as the result of an increasingly large denominator. \n",
    "* The logistic function takes real number values as input and transforms them to values in the range [0,1] with an intercept at σ(z)=0.5.\n",
    "* To learn the weights w from the training set X, we can use ML estimation:\n",
    "$$arg max_{w}logP(X|w)$$\n",
    "---------------------------\n",
    "* This problem can be solved by gradient descent algorithm with the following update rule:\n",
    "$$w(t+1)=w(t)−η∇wlogP(X|w^{(t)}),$$\n",
    "where\n",
    "$$∇_{w}logP(X|w^{(t)})=∑_{t=1}^{N}[y^{′(i)}−σ(w^{(t)⊤}x^{(i)})]x^{(i)}$$\n",
    "\n",
    "---------------------------\n",
    "* Once $w$ is solved, we can then make predictions by\n",
    "$$\\hat{y}=argmax_{y}P(y|x;w)=argmax_{y}{σ(w^{⊤}x),1−σ(w^{⊤}x)}=sign(w^{⊤}x).$$"
   ]
  },
  {
   "cell_type": "markdown",
   "metadata": {},
   "source": [
    "* Logistic Regression is very easy to implement but performs well on linearly separable classes (or classes close to linearly separable).\n",
    "* Similar to the Perceptron and Adaline, **the Logistic Regression model is also a linear model for binary classification**. \n",
    "* We can relate the Logistic Regression to our previous Adaline implementation.\n",
    "* In Adaline, we used the identity function as the activation function. In Logistic Regression, this activation function simply becomes the logistic function (also called as sigmoid function) as illustrated below:\n",
    "<img src='https://nthu-datalab.github.io/ml/labs/06_Logistic-Regression_Metrics/fig-logistic-regression.png' width='400'></img>"
   ]
  },
  {
   "cell_type": "markdown",
   "metadata": {},
   "source": [
    "# Predicting Class-Membership Probability\n",
    "* **One benefit of using Logistic Regression is that it is able to output the class-membership probability**.\n",
    "* In fact, there are many applications where we are not only interested in predicting class labels, but also in estimating the class-membership probability."
   ]
  },
  {
   "cell_type": "markdown",
   "metadata": {},
   "source": [
    "# Training a Logistic Regression Model with Scikit-learn\n",
    "* Scikit-learn implements a highly optimized version of logistic regression that also supports multiclass classification off-the-shelf. Let's use it to make predictions on the standardized Iris training dataset.\n",
    "* <font color='Red'>NOTE:</font> \n",
    "    * Logistic Regression, like many other binary classification models, can be easily extended to multiclass classification via **One-vs-All** or other similar techniques. "
   ]
  },
  {
   "cell_type": "code",
   "execution_count": 3,
   "metadata": {},
   "outputs": [
    {
     "data": {
      "text/html": [
       "<div>\n",
       "<style scoped>\n",
       "    .dataframe tbody tr th:only-of-type {\n",
       "        vertical-align: middle;\n",
       "    }\n",
       "\n",
       "    .dataframe tbody tr th {\n",
       "        vertical-align: top;\n",
       "    }\n",
       "\n",
       "    .dataframe thead th {\n",
       "        text-align: right;\n",
       "    }\n",
       "</style>\n",
       "<table border=\"1\" class=\"dataframe\">\n",
       "  <thead>\n",
       "    <tr style=\"text-align: right;\">\n",
       "      <th></th>\n",
       "      <th>Sepal length</th>\n",
       "      <th>Sepal width</th>\n",
       "      <th>Petal length</th>\n",
       "      <th>Petal width</th>\n",
       "      <th>Class label</th>\n",
       "    </tr>\n",
       "  </thead>\n",
       "  <tbody>\n",
       "    <tr>\n",
       "      <th>0</th>\n",
       "      <td>5.1</td>\n",
       "      <td>3.5</td>\n",
       "      <td>1.4</td>\n",
       "      <td>0.2</td>\n",
       "      <td>Iris-setosa</td>\n",
       "    </tr>\n",
       "    <tr>\n",
       "      <th>1</th>\n",
       "      <td>4.9</td>\n",
       "      <td>3.0</td>\n",
       "      <td>1.4</td>\n",
       "      <td>0.2</td>\n",
       "      <td>Iris-setosa</td>\n",
       "    </tr>\n",
       "    <tr>\n",
       "      <th>2</th>\n",
       "      <td>4.7</td>\n",
       "      <td>3.2</td>\n",
       "      <td>1.3</td>\n",
       "      <td>0.2</td>\n",
       "      <td>Iris-setosa</td>\n",
       "    </tr>\n",
       "    <tr>\n",
       "      <th>3</th>\n",
       "      <td>4.6</td>\n",
       "      <td>3.1</td>\n",
       "      <td>1.5</td>\n",
       "      <td>0.2</td>\n",
       "      <td>Iris-setosa</td>\n",
       "    </tr>\n",
       "    <tr>\n",
       "      <th>4</th>\n",
       "      <td>5.0</td>\n",
       "      <td>3.6</td>\n",
       "      <td>1.4</td>\n",
       "      <td>0.2</td>\n",
       "      <td>Iris-setosa</td>\n",
       "    </tr>\n",
       "  </tbody>\n",
       "</table>\n",
       "</div>"
      ],
      "text/plain": [
       "   Sepal length  Sepal width  Petal length  Petal width  Class label\n",
       "0           5.1          3.5           1.4          0.2  Iris-setosa\n",
       "1           4.9          3.0           1.4          0.2  Iris-setosa\n",
       "2           4.7          3.2           1.3          0.2  Iris-setosa\n",
       "3           4.6          3.1           1.5          0.2  Iris-setosa\n",
       "4           5.0          3.6           1.4          0.2  Iris-setosa"
      ]
     },
     "metadata": {},
     "output_type": "display_data"
    },
    {
     "name": "stdout",
     "output_type": "stream",
     "text": [
      "#Training data points: 80\n",
      "#Testing data points: 20\n",
      "Class labels: [0 1] (mapped from ['Iris-versicolor' 'Iris-virginica'])\n"
     ]
    }
   ],
   "source": [
    "import pandas as pd\n",
    "from IPython.display import display\n",
    "from sklearn.model_selection import train_test_split\n",
    "\n",
    "df = pd.read_csv('https://archive.ics.uci.edu/ml/'\n",
    "                 'machine-learning-databases/iris/iris.data', header=None)\n",
    "df.columns = ['Sepal length', 'Sepal width', 'Petal length', 'Petal width', 'Class label']\n",
    "display(df.head())\n",
    "\n",
    "# for simplicity, consider only two features and two classes\n",
    "\n",
    "X = df[['Petal length', 'Petal width']].values[50:150]\n",
    "y, y_label = pd.factorize(df['Class label'].values[50:150])\n",
    "\n",
    "X_train, X_test, y_train, y_test = train_test_split(\n",
    "  X, y, test_size=0.2, random_state=1)\n",
    "\n",
    "print('#Training data points: %d' % X_train.shape[0])\n",
    "print('#Testing data points: %d' % X_test.shape[0])\n",
    "print('Class labels: %s (mapped from %s)' % (np.unique(y), np.unique(y_label)))\n",
    "\n",
    "# Standardize X\n",
    "\n",
    "from sklearn.preprocessing import StandardScaler\n",
    "\n",
    "sc = StandardScaler()\n",
    "sc.fit(X_train)\n",
    "X_train_std = sc.transform(X_train)\n",
    "X_test_std = sc.transform(X_test)"
   ]
  },
  {
   "cell_type": "code",
   "execution_count": 4,
   "metadata": {},
   "outputs": [],
   "source": [
    "from matplotlib.colors import ListedColormap\n",
    "import matplotlib.pyplot as plt\n",
    "import numpy as np\n",
    "\n",
    "def plot_decision_regions(X, y, classifier, test_idx=None, resolution=0.02):\n",
    "\n",
    "    # setup marker generator and color map\n",
    "    markers = ('s', 'x', 'o', '^', 'v')\n",
    "    colors = ('red', 'blue', 'lightgreen', 'gray', 'cyan')\n",
    "    cmap = ListedColormap(colors[:len(np.unique(y))])\n",
    "\n",
    "    # plot the decision surface\n",
    "    x1_min, x1_max = X[:, 0].min() - 1, X[:, 0].max() + 1\n",
    "    x2_min, x2_max = X[:, 1].min() - 1, X[:, 1].max() + 1\n",
    "    xx1, xx2 = np.meshgrid(np.arange(x1_min, x1_max, resolution),\n",
    "                           np.arange(x2_min, x2_max, resolution))\n",
    "\n",
    "    Z = classifier.predict(np.array([xx1.ravel(), xx2.ravel()]).T)\n",
    "    Z = Z.reshape(xx1.shape)\n",
    "    plt.contourf(xx1, xx2, Z, alpha=0.4, cmap=cmap)\n",
    "    plt.xlim(xx1.min(), xx1.max())\n",
    "    plt.ylim(xx2.min(), xx2.max())\n",
    "\n",
    "    # plot class samples\n",
    "    for idx, cl in enumerate(np.unique(y)):\n",
    "        plt.scatter(x=X[y == cl, 0], y=X[y == cl, 1],\n",
    "                    alpha=0.8, c=cmap(idx),\n",
    "                    marker=markers[idx], label=cl)\n",
    "\n",
    "    # highlight test samples\n",
    "    if test_idx:\n",
    "        # plot all samples\n",
    "        X_test, y_test = X[test_idx, :], y[test_idx]\n",
    "\n",
    "        plt.scatter(X_test[:, 0],\n",
    "                    X_test[:, 1],\n",
    "                    c='',\n",
    "                    alpha=1.0,\n",
    "                    linewidths=1,\n",
    "                    marker='o',\n",
    "                    s=55, label='test set', edgecolors='k')"
   ]
  },
  {
   "cell_type": "code",
   "execution_count": 5,
   "metadata": {},
   "outputs": [
    {
     "data": {
      "image/png": "[encoded data removed]",
      "text/plain": [
       "<matplotlib.figure.Figure at 0x7f499317aac8>"
      ]
     },
     "metadata": {},
     "output_type": "display_data"
    }
   ],
   "source": [
    "from sklearn.linear_model import LogisticRegression\n",
    "\n",
    "lr = LogisticRegression(C=1000.0, random_state=0)\n",
    "lr.fit(X_train_std, y_train)\n",
    "\n",
    "# plot decision regions\n",
    "fig, ax = plt.subplots(figsize=(8,6))\n",
    "X_combined_std = np.vstack((X_train_std, X_test_std))\n",
    "y_combined = np.hstack((y_train, y_test))\n",
    "\n",
    "plot_decision_regions(X_combined_std, y_combined,\n",
    "                      classifier=lr, test_idx=range(y_train.size, \n",
    "                                                    y_train.size + y_test.size))\n",
    "plt.xlabel('Petal length [Standardized]')\n",
    "plt.ylabel('Petal width [Standardized]')\n",
    "plt.legend(loc='lower right')\n",
    "plt.tight_layout()\n",
    "plt.legend(loc=4, prop={'size': 20})\n",
    "for item in ([ax.title, ax.xaxis.label, ax.yaxis.label] +\n",
    "             ax.get_xticklabels() + ax.get_yticklabels()):\n",
    "    item.set_fontsize(20)\n",
    "for item in (ax.get_xticklabels() + ax.get_yticklabels()):\n",
    "    item.set_fontsize(15)\n",
    "plt.savefig('./output/fig-logistic-regression-boundray-2.png', dpi=300)\n",
    "plt.show()"
   ]
  },
  {
   "cell_type": "markdown",
   "metadata": {},
   "source": [
    "* The Logistic Regression class can predict the class-membership probability via the predict_proba() method. For example, we can predict the probabilities of the first testing point:"
   ]
  },
  {
   "cell_type": "code",
   "execution_count": 6,
   "metadata": {},
   "outputs": [
    {
     "name": "stdout",
     "output_type": "stream",
     "text": [
      "Correct label: Iris-virginica\n",
      "\n",
      "Prob for class Iris-versicolor: 0.01\n",
      "Prob for class Iris-virginica: 0.99\n"
     ]
    }
   ],
   "source": [
    "test_idx = 1\n",
    "print('Correct label: %s\\n' % y_label[y_test[test_idx]])\n",
    "\n",
    "prob = lr.predict_proba(X_test_std[test_idx, :].reshape(1, -1))\n",
    "\n",
    "print('Prob for class %s: %.2f' % (y_label[0], prob[:, 0]))\n",
    "print('Prob for class %s: %.2f' % (y_label[1], prob[:, 1]))"
   ]
  },
  {
   "cell_type": "markdown",
   "metadata": {},
   "source": [
    "* The prob array tells us that the model predicts a 99% chance that the sample belongs to the Iris-Virginica class, and a 1% chance that the sample is a Iris-Versicolor flower. "
   ]
  },
  {
   "cell_type": "markdown",
   "metadata": {},
   "source": [
    "# Regularization\n",
    "* One way to regularize a logistic regression classifier is to add a weight decay term in the objective (or cost function), as in Ridge regression:\n",
    "$$argmax_{w}logP(X|w)−\\frac{α}{2} ∥w∥^{2}$$\n",
    "where α>0 is a hyperparameter that controls the trade-off between maximizing the log likelihood and minimizing the weight.\n",
    "* Note that the Logistic Regression class implemented in Scikit-learn uses the hyperparameter C=1/α due to convention."
   ]
  },
  {
   "cell_type": "code",
   "execution_count": 7,
   "metadata": {},
   "outputs": [
    {
     "data": {
      "image/png": "[encoded data removed]",
      "text/plain": [
       "<matplotlib.figure.Figure at 0x7f49932ec978>"
      ]
     },
     "metadata": {},
     "output_type": "display_data"
    }
   ],
   "source": [
    "weights, params = [], []\n",
    "for c in np.arange(-5, 5, dtype='float32'):\n",
    "    lr = LogisticRegression(C=10**c, random_state=0)\n",
    "    lr.fit(X_train_std, y_train)\n",
    "    # get the coefficients of w\n",
    "    weights.append(lr.coef_[0])\n",
    "    params.append(10**c)\n",
    "\n",
    "fig, ax = plt.subplots(figsize=(8,6))\n",
    "weights = np.array(weights)\n",
    "plt.plot(params, weights[:, 0],\n",
    "         label='Petal length')\n",
    "plt.plot(params, weights[:, 1],\n",
    "         label='Petal width', linestyle='--')\n",
    "plt.xlim(10**4, 10**-5)\n",
    "plt.xscale('log')\n",
    "plt.xlabel('C')\n",
    "plt.ylabel('Weight coefficient')\n",
    "plt.legend(loc='upper right')\n",
    "plt.tight_layout()\n",
    "plt.legend(loc=1, prop={'size': 20})\n",
    "for item in ([ax.title, ax.xaxis.label, ax.yaxis.label] +\n",
    "             ax.get_xticklabels() + ax.get_yticklabels()):\n",
    "    item.set_fontsize(20)\n",
    "for item in (ax.get_xticklabels() + ax.get_yticklabels()):\n",
    "    item.set_fontsize(15)\n",
    "plt.savefig('./output/fig-logistic-regression-c.png', dpi=300)\n",
    "plt.show()"
   ]
  },
  {
   "cell_type": "markdown",
   "metadata": {},
   "source": [
    "# Evaluation Metrics for Binary Classifiers\n",
    "* We evaluate the performance of a classifier using the **accuracy metric**.\n",
    "* Although accuracy is a general and common metric, there are several other evaluation metrics that allow us to quantify the performance of a model from different aspects."
   ]
  },
  {
   "cell_type": "markdown",
   "metadata": {},
   "source": [
    "# <a name='BackCM'>Confusion Matrix</a>\n",
    "* Before we get into the details of different evaluation metrics, let's print the so-called [confusion matrix](#CM), a square matrix that reports the counts of the **true positive, true negative, false positive, and false negative predictions** of a classifier, as shown below:\n",
    "<img src='https://nthu-datalab.github.io/ml/labs/06_Logistic-Regression_Metrics/fig-confusion.png' width='300'></img>\n",
    "* The confusion matrix of our logistic regressor over the Iris dataset is shown as follows:"
   ]
  },
  {
   "cell_type": "code",
   "execution_count": 8,
   "metadata": {},
   "outputs": [
    {
     "data": {
      "image/png": "[encoded data removed]",
      "text/plain": [
       "<matplotlib.figure.Figure at 0x7f49932ec748>"
      ]
     },
     "metadata": {},
     "output_type": "display_data"
    }
   ],
   "source": [
    "from sklearn.metrics import confusion_matrix\n",
    "\n",
    "lr = LogisticRegression(random_state=0)\n",
    "lr.fit(X_train_std, y_train)\n",
    "y_pred = lr.predict(X_test_std)\n",
    "confmat = confusion_matrix(y_true=y_test, y_pred=y_pred)\n",
    "\n",
    "fig, ax = plt.subplots(figsize=(4,4))\n",
    "ax.matshow(confmat, cmap=plt.cm.Blues, alpha=0.3)\n",
    "for i in range(confmat.shape[0]):\n",
    "    for j in range(confmat.shape[1]):\n",
    "        ax.text(x=j, y=i, s=confmat[i, j], va='center', ha='center')\n",
    "\n",
    "plt.xlabel('Predicted label')\n",
    "plt.ylabel('True label')\n",
    "\n",
    "plt.tight_layout()\n",
    "plt.savefig('./output/fig-logistic-regression-confusion-2.png', dpi=300)\n",
    "for item in ([ax.title, ax.xaxis.label, ax.yaxis.label] +\n",
    "             ax.get_xticklabels() + ax.get_yticklabels()):\n",
    "    item.set_fontsize(20)\n",
    "for item in (ax.get_xticklabels() + ax.get_yticklabels()):\n",
    "    item.set_fontsize(15)\n",
    "plt.show()"
   ]
  },
  {
   "cell_type": "markdown",
   "metadata": {},
   "source": [
    "* The meaning of each entry in the above confusion matrix is straightforward. \n",
    "* For example, the cell at (1,0) means that 2 positive testing points are misclassified as negative. Confusion matrix helps us know not only the count of how many errors but how they are wrong. \n",
    "* Correct predictions counts into the diagonal entries. A good performing classifier should have a confusion matrix that is a diagonal matrix which means that the entries outside the main diagonal are all zero. \n",
    "* The **error rate (ERR)** and **accuracy (ACC)** we have been using can be defined as follows:\n",
    "$$ERR=\\frac{FP+FN}{P+N}, (the lower, the better)$$\n",
    "$$ACC=\\frac{TP+TN}{P+N}=1−ERR. (the higher, the better)$$"
   ]
  },
  {
   "cell_type": "markdown",
   "metadata": {},
   "source": [
    "## True and False Positive Rate\n",
    "* The **true positive rate (TPR)** and **false positive rate (FPR)** are defined as:\n",
    "$$FPR=\\frac{FP}{N}, (the lower, the better)$$\n",
    "$$TPR=\\frac{TP}{P}. (the higher, the better)$$\n",
    "* TPR and FPR are metrics particularly useful for tasks with imbalanced classes. For example, if we have 10% positive and 90% negative examples in the training set, then a dummy classifier that always give negative predictions will be able to achieve 90% accuracy. The accuracy metric is misleading in this case. On the other hand, by checking the TPR which equals to 0%, we learn that the dummy classifier is not performing well."
   ]
  },
  {
   "cell_type": "markdown",
   "metadata": {},
   "source": [
    "## Precision, Recall, and $F_{1}$-Score\n",
    "* The **Precision (PRE)** and **recall (REC)** metrics are defines as:\n",
    "$$PRE=\\frac{TP}{P′}, (the higher, the better)$$\n",
    "$$REC=\\frac{TP}{P}=TPR. (the higher, the better)$$\n",
    "* Basically, PRE means \"how many points predicted as positive are indeed positive;\" while REC refers to \"how many positive points in the ground truth are successfully identified as positive.\" PRE and REC are useful metrics if we care specifically about the performance of positive predictions.\n",
    "* In practice, we may combine PRE and REC into a single score called the F1-score:\n",
    "$$F_{1}=2\\frac{(PRE∗REC)}{PRE+REC}, (the higher, the better)$$\n",
    "which reaches its best value at 1 and worst at 0."
   ]
  },
  {
   "cell_type": "markdown",
   "metadata": {},
   "source": [
    "## Evaluation Metrics for Soft Classifiers\n",
    "* Many classifiers, such as Adaline and Logistic Regression, can make \"soft\" predictions (i.e., real values instead of the \"hard\" 1 or -1). We may \"harden\" the soft predictions by defining a **decision threshold θ**. For example, suppose a classifier makes soft predictions in range [−1,1] that are sorted as follows:\n",
    "<img src='https://nthu-datalab.github.io/ml/labs/06_Logistic-Regression_Metrics/fig-roc-threshold.png' width='100'></img>\n",
    "* We can define a threshold θ=0.8 such that points with scores larger/smaller than 0.8 become positive/negative outputs. It is clear that the performance of the classifier will vary as we use different values for threshold."
   ]
  },
  {
   "cell_type": "markdown",
   "metadata": {},
   "source": [
    "## <a name='BackROC'>Receiver Operating Characteristic (ROC) Curve</a>\n",
    "* The [**receiver operator characteristic (ROC) curve**](#ROC) measures the performance of a classifier at **all** possible thresholds. We can draw an ROC curve by following the steps:\n",
    "    1. Rank the soft predictions from highest to lowest;\n",
    "    2. For each indexing threshold θ that makes the first θ points positive and the rest negative, θ=1,⋯,|X|, calculate the $TPR^{(θ)}$ and $FPR^{(θ)}$;\n",
    "    3. Draw points ($TPR^{(θ)}$,$FPR^{(θ)}$) in a 2-D plot and connect the points to get an ROC curve.\n",
    "* Let's plot the ROC curve of our logistic regressor:"
   ]
  },
  {
   "cell_type": "code",
   "execution_count": 9,
   "metadata": {},
   "outputs": [
    {
     "data": {
      "image/png": "[encoded data removed]",
      "text/plain": [
       "<matplotlib.figure.Figure at 0x7f4963a549b0>"
      ]
     },
     "metadata": {},
     "output_type": "display_data"
    }
   ],
   "source": [
    "from sklearn.metrics import roc_curve\n",
    "from scipy import interp\n",
    "from cycler import cycler\n",
    "\n",
    "lr = LogisticRegression(random_state=0)\n",
    "lr.fit(X_train_std, y_train)\n",
    "\n",
    "fig = plt.figure(figsize=(7,7))\n",
    "\n",
    "# mean_tpr = 0.0\n",
    "# mean_fpr = np.linspace(0, 1, 100)\n",
    "# all_tpr = []\n",
    "\n",
    "probas = lr.predict_proba(X_test_std) \n",
    "\n",
    "## we use feature 1 as positive label\n",
    "fpr, tpr, thresholds = roc_curve(y_test,\n",
    "                                 probas[:, 0],\n",
    "                                 pos_label=0)\n",
    "\n",
    "plt.plot(fpr, tpr, lw=2,\n",
    "         label='Logistic regression')\n",
    "    \n",
    "plt.plot([0, 1],\n",
    "         [0, 1],\n",
    "         linestyle='--',\n",
    "         color='gray',\n",
    "         label='Random guessing')\n",
    "\n",
    "plt.plot([0, 0, 1],\n",
    "         [0, 1, 1],\n",
    "         linestyle='-.',\n",
    "         alpha=0.5,\n",
    "         color='red',\n",
    "         label='Perfect')\n",
    "\n",
    "plt.xlim([-0.05, 1.05])\n",
    "plt.ylim([-0.05, 1.05])\n",
    "plt.xlabel('FPR')\n",
    "plt.ylabel('TPR')\n",
    "plt.title('ROC Curve')\n",
    "plt.legend(loc=\"lower right\")\n",
    "plt.tight_layout()\n",
    "plt.legend(loc=4, prop={'size': 18})\n",
    "for item in ([ax.title, ax.xaxis.label, ax.yaxis.label] +\n",
    "             ax.get_xticklabels() + ax.get_yticklabels()):\n",
    "    item.set_fontsize(20)\n",
    "for item in (ax.get_xticklabels() + ax.get_yticklabels()):\n",
    "    item.set_fontsize(15)\n",
    "plt.savefig('./output/fig-roc-lg.png', dpi=300)\n",
    "plt.show()"
   ]
  },
  {
   "cell_type": "markdown",
   "metadata": {},
   "source": [
    "# How does the ROC curve of a \"good\" classifier look like?\n",
    "* The ROC curve of a perfect classifier would have a line that goes from bottom left to top left and top left to top right. \n",
    "* On the other hand, if the ROC curve is just the diagonal line then the model is just doing random guessing.\n",
    "* Any useful classifier should have an ROC curve falling between these two curves. "
   ]
  },
  {
   "cell_type": "markdown",
   "metadata": {},
   "source": [
    "# Model Comparison\n",
    "* ROC curves are useful for comparing the performance of different classifiers over the same dataset. For example, suppose we have three classifiers A, B, and C and their respective ROC curves, as shown below:\n",
    "<img src='https://nthu-datalab.github.io/ml/labs/06_Logistic-Regression_Metrics/fig-roc-compare.png' width='150'></img>\n",
    "* It is clear that the classifiers B and C are better than A. But how about B and C?\n",
    "    * This can also be answered by ROC curves:\n",
    "        * If we tolerate no more than 10% FPR, we should pick B at an indexing threshold θ=0.15|X| to get 60% TPR;\n",
    "        * If we tolerate 40% FPR, then pick C at θ=0.4|X|, which gives 90% TPR. "
   ]
  },
  {
   "cell_type": "markdown",
   "metadata": {},
   "source": [
    "# <a name='BackAUC'>Area Under the Curve (AUC)</a>\n",
    "* We can reduce an ROC curve to a single value by calculating the [area under the curve (AUC)](#AUC).\n",
    "* A perfect classifier has AUC=1.0, and random guessing results in AUC=0.5.\n",
    "* It can be shown that AUC is equal to the probability that a classifier will rank a randomly chosen positive instance higher than a randomly chosen negative one.\n",
    "* Let's compute the AUC of our logistic regressor:"
   ]
  },
  {
   "cell_type": "code",
   "execution_count": 10,
   "metadata": {},
   "outputs": [
    {
     "name": "stdout",
     "output_type": "stream",
     "text": [
      "AUC: 0.98\n"
     ]
    }
   ],
   "source": [
    "from sklearn.metrics import auc\n",
    "\n",
    "print('AUC: %.2f' % auc(fpr, tpr))"
   ]
  },
  {
   "cell_type": "markdown",
   "metadata": {},
   "source": [
    "# Evaluation Metrics for Multiclass Classification\n",
    "* In multiclass classification problem, we can extend the above metrics via one-vs-all technique, where we treat one class as \"positive\" and the rest as \"negative\" and compute a score for the class.\n",
    "* If there are K classes, then we compute K scores, one for each class. However, if we just want to have a single final score, we need to decide how to combine these scores.\n",
    "* Scikit-learn implements the **macro** and **micro averaging** methods. For example, the micro-average of $K$ precision scores is calculated as follows:\n",
    "$$PRE_{micro}=\\frac{TP^{(1)}+⋯+TP^{(K)}}{P′^{(1)}+⋯+P′^{(K)}}$$\n",
    "while the macro-average is simply the average of individual PRE's:\n",
    "$$PRE_{macro}=\\frac{PRE^{(1)}+⋯+PRE^{(K)}}{K}$$\n",
    "* Micro-averaging is useful if we want to weight each data point or prediction equally, whereas macro-averaging weights all classes equally. Macro-average is the default in Scikit-learn.\n",
    "* Let's train a multiclass logistic regressor and see how it performs:"
   ]
  },
  {
   "cell_type": "code",
   "execution_count": 11,
   "metadata": {},
   "outputs": [
    {
     "name": "stdout",
     "output_type": "stream",
     "text": [
      "#Training data points: 16 + 33 + 31 = 80\n",
      "#Testing data points: 4 + 17 + 19 = 40\n",
      "Class labels: [0 1 2] (mapped from ['Iris-setosa' 'Iris-versicolor' 'Iris-virginica'])\n"
     ]
    },
    {
     "data": {
      "image/png": "[encoded data removed]",
      "text/plain": [
       "<matplotlib.figure.Figure at 0x7f4963b6e5c0>"
      ]
     },
     "metadata": {},
     "output_type": "display_data"
    },
    {
     "data": {
      "image/png": "[encoded data removed]",
      "text/plain": [
       "<matplotlib.figure.Figure at 0x7f49931b2438>"
      ]
     },
     "metadata": {},
     "output_type": "display_data"
    },
    {
     "name": "stdout",
     "output_type": "stream",
     "text": [
      "[Precision]\n",
      "Individual: 1.00, 0.94, 0.95\n",
      "Micro: 0.95\n",
      "Macro: 0.96\n",
      "\n",
      "[Recall]\n",
      "Individual: 1.00, 0.94, 0.95\n",
      "Micro: 0.95\n",
      "Macro: 0.96\n",
      "\n",
      "[F1-score]\n",
      "Individual: 1.00, 0.94, 0.95\n",
      "Micro: 0.95\n",
      "Macro: 0.96\n"
     ]
    }
   ],
   "source": [
    "from sklearn.metrics import precision_score, recall_score, f1_score\n",
    "from lib import *\n",
    "\n",
    "# prepare datasets\n",
    "\n",
    "X = df[['Petal length', 'Petal width']].values[30:150,]\n",
    "y, y_label = pd.factorize(df['Class label'].values[30:150])\n",
    "\n",
    "X_train, X_test, y_train, y_test = train_test_split(\n",
    "    X, y, test_size=0.33, random_state=1)\n",
    "\n",
    "print('#Training data points: %d + %d + %d = %d' % ((y_train == 0).sum(), \n",
    "                                                    (y_train == 1).sum(), \n",
    "                                                    (y_train == 2).sum(), \n",
    "                                                     y_train.size))\n",
    "print('#Testing data points: %d + %d + %d = %d' % ((y_test == 0).sum(), \n",
    "                                                    (y_test == 1).sum(), \n",
    "                                                    (y_test == 2).sum(), \n",
    "                                                     y_test.size))\n",
    "print('Class labels: %s (mapped from %s)' % (np.unique(y), np.unique(y_label)))\n",
    "\n",
    "# standarize X\n",
    "\n",
    "sc = StandardScaler()\n",
    "sc.fit(X_train)\n",
    "X_train_std = sc.transform(X_train)\n",
    "X_test_std = sc.transform(X_test)\n",
    "\n",
    "# training & testing\n",
    "\n",
    "lr = LogisticRegression(C=1000.0, random_state=0)\n",
    "lr.fit(X_train_std, y_train)\n",
    "y_pred = lr.predict(X_test_std)\n",
    "\n",
    "# plot decision regions\n",
    "fig, ax = plt.subplots(figsize=(8,6))\n",
    "\n",
    "X_combined_std = np.vstack((X_train_std, X_test_std))\n",
    "y_combined = np.hstack((y_train, y_test))\n",
    "\n",
    "plot_decision_regions(X_combined_std, y_combined,\n",
    "                      classifier=lr, test_idx=range(y_train.size, \n",
    "                                     y_train.size + y_test.size))\n",
    "plt.xlabel('Petal length [Standardized]')\n",
    "plt.ylabel('Petal width [Standardized]')\n",
    "plt.legend(loc=4, prop={'size': 15})\n",
    "plt.tight_layout()\n",
    "for item in ([ax.title, ax.xaxis.label, ax.yaxis.label] +\n",
    "             ax.get_xticklabels() + ax.get_yticklabels()):\n",
    "    item.set_fontsize(20)\n",
    "for item in (ax.get_xticklabels() + ax.get_yticklabels()):\n",
    "    item.set_fontsize(15)\n",
    "plt.savefig('./output/fig-logistic-regression-boundray-3.png', dpi=300)\n",
    "plt.show()\n",
    "\n",
    "# plot confusion matrix\n",
    "\n",
    "confmat = confusion_matrix(y_true=y_test, y_pred=y_pred)\n",
    "fig, ax = plt.subplots(figsize=(5,5))\n",
    "ax.matshow(confmat, cmap=plt.cm.Blues, alpha=0.3)\n",
    "for i in range(confmat.shape[0]):\n",
    "    for j in range(confmat.shape[1]):\n",
    "        ax.text(x=j, y=i, s=confmat[i, j], va='center', ha='center')\n",
    "plt.xlabel('Predicted label')\n",
    "plt.ylabel('True label')\n",
    "plt.tight_layout()\n",
    "for item in ([ax.title, ax.xaxis.label, ax.yaxis.label] +\n",
    "             ax.get_xticklabels() + ax.get_yticklabels()):\n",
    "    item.set_fontsize(20)\n",
    "for item in (ax.get_xticklabels() + ax.get_yticklabels()):\n",
    "    item.set_fontsize(15)\n",
    "plt.savefig('./output/fig-logistic-regression-confusion-3.png', dpi=300)\n",
    "plt.show()\n",
    "\n",
    "# metrics\n",
    "\n",
    "print('[Precision]')\n",
    "p = precision_score(y_true=y_test, y_pred=y_pred, average=None)\n",
    "print('Individual: %.2f, %.2f, %.2f' % (p[0], p[1], p[2]))\n",
    "p = precision_score(y_true=y_test, y_pred=y_pred, average='micro')\n",
    "print('Micro: %.2f' % p)\n",
    "p = precision_score(y_true=y_test, y_pred=y_pred, average='macro')\n",
    "print('Macro: %.2f' % p)\n",
    "\n",
    "print('\\n[Recall]')\n",
    "r = recall_score(y_true=y_test, y_pred=y_pred,average=None)\n",
    "print('Individual: %.2f, %.2f, %.2f' % (r[0], r[1], r[2]))\n",
    "r = recall_score(y_true=y_test, y_pred=y_pred, average='micro')\n",
    "print('Micro: %.2f' % r)\n",
    "r = recall_score(y_true=y_test, y_pred=y_pred, average='macro')\n",
    "print('Macro: %.2f' % r)\n",
    "\n",
    "print('\\n[F1-score]')\n",
    "f = f1_score(y_true=y_test, y_pred=y_pred, average=None)\n",
    "print('Individual: %.2f, %.2f, %.2f' % (f[0], f[1], f[2]))\n",
    "f = f1_score(y_true=y_test, y_pred=y_pred, average='micro')\n",
    "print('Micro: %.2f' % f)\n",
    "f = f1_score(y_true=y_test, y_pred=y_pred, average='macro')\n",
    "print('Macro: %.2f' % f)"
   ]
  },
  {
   "cell_type": "markdown",
   "metadata": {},
   "source": [
    "* We can see that the micro average reports more conservative scores. This is because it takes into account the class size. In our testing set, the first class is smaller than the others so its score (1.00) contributes less to the final score. "
   ]
  },
  {
   "cell_type": "markdown",
   "metadata": {},
   "source": [
    "# Assignment\n",
    "### Goal:\n",
    "* Predict the presence or absence of cardiac arrhythmia in a patient. \n",
    "\n",
    "### Your code file should contain:\n",
    "1. Loading of dataset.\n",
    "2. Splitting of dataset to training and testing data (test_size = 20% of the whole dataset)\n",
    "3. Building of a self-designed Logistic Regression model. (Complete the TODO parts provided below.)\n",
    "4. Plotting of the confusion matrix. (Label 0 as positive)\n",
    "5. Computing the F1-score of this confusion matrix. The F1-score should be at least 0.75."
   ]
  },
  {
   "cell_type": "code",
   "execution_count": 12,
   "metadata": {},
   "outputs": [
    {
     "data": {
      "text/html": [
       "<div>\n",
       "<style scoped>\n",
       "    .dataframe tbody tr th:only-of-type {\n",
       "        vertical-align: middle;\n",
       "    }\n",
       "\n",
       "    .dataframe tbody tr th {\n",
       "        vertical-align: top;\n",
       "    }\n",
       "\n",
       "    .dataframe thead th {\n",
       "        text-align: right;\n",
       "    }\n",
       "</style>\n",
       "<table border=\"1\" class=\"dataframe\">\n",
       "  <thead>\n",
       "    <tr style=\"text-align: right;\">\n",
       "      <th></th>\n",
       "      <th>0</th>\n",
       "      <th>1</th>\n",
       "      <th>2</th>\n",
       "      <th>3</th>\n",
       "      <th>4</th>\n",
       "      <th>5</th>\n",
       "      <th>6</th>\n",
       "      <th>7</th>\n",
       "      <th>8</th>\n",
       "      <th>9</th>\n",
       "      <th>...</th>\n",
       "      <th>270</th>\n",
       "      <th>271</th>\n",
       "      <th>272</th>\n",
       "      <th>273</th>\n",
       "      <th>274</th>\n",
       "      <th>275</th>\n",
       "      <th>276</th>\n",
       "      <th>277</th>\n",
       "      <th>278</th>\n",
       "      <th>279</th>\n",
       "    </tr>\n",
       "  </thead>\n",
       "  <tbody>\n",
       "    <tr>\n",
       "      <th>0</th>\n",
       "      <td>75</td>\n",
       "      <td>0</td>\n",
       "      <td>190</td>\n",
       "      <td>80</td>\n",
       "      <td>91</td>\n",
       "      <td>193</td>\n",
       "      <td>371</td>\n",
       "      <td>174</td>\n",
       "      <td>121</td>\n",
       "      <td>-16</td>\n",
       "      <td>...</td>\n",
       "      <td>0.0</td>\n",
       "      <td>9.0</td>\n",
       "      <td>-0.9</td>\n",
       "      <td>0.0</td>\n",
       "      <td>0.0</td>\n",
       "      <td>0.9</td>\n",
       "      <td>2.9</td>\n",
       "      <td>23.3</td>\n",
       "      <td>49.4</td>\n",
       "      <td>8</td>\n",
       "    </tr>\n",
       "    <tr>\n",
       "      <th>1</th>\n",
       "      <td>56</td>\n",
       "      <td>1</td>\n",
       "      <td>165</td>\n",
       "      <td>64</td>\n",
       "      <td>81</td>\n",
       "      <td>174</td>\n",
       "      <td>401</td>\n",
       "      <td>149</td>\n",
       "      <td>39</td>\n",
       "      <td>25</td>\n",
       "      <td>...</td>\n",
       "      <td>0.0</td>\n",
       "      <td>8.5</td>\n",
       "      <td>0.0</td>\n",
       "      <td>0.0</td>\n",
       "      <td>0.0</td>\n",
       "      <td>0.2</td>\n",
       "      <td>2.1</td>\n",
       "      <td>20.4</td>\n",
       "      <td>38.8</td>\n",
       "      <td>6</td>\n",
       "    </tr>\n",
       "    <tr>\n",
       "      <th>2</th>\n",
       "      <td>54</td>\n",
       "      <td>0</td>\n",
       "      <td>172</td>\n",
       "      <td>95</td>\n",
       "      <td>138</td>\n",
       "      <td>163</td>\n",
       "      <td>386</td>\n",
       "      <td>185</td>\n",
       "      <td>102</td>\n",
       "      <td>96</td>\n",
       "      <td>...</td>\n",
       "      <td>0.0</td>\n",
       "      <td>9.5</td>\n",
       "      <td>-2.4</td>\n",
       "      <td>0.0</td>\n",
       "      <td>0.0</td>\n",
       "      <td>0.3</td>\n",
       "      <td>3.4</td>\n",
       "      <td>12.3</td>\n",
       "      <td>49.0</td>\n",
       "      <td>10</td>\n",
       "    </tr>\n",
       "  </tbody>\n",
       "</table>\n",
       "<p>3 rows × 280 columns</p>\n",
       "</div>"
      ],
      "text/plain": [
       "   0    1    2    3    4    5    6    7    8    9   ...   270  271  272  273  \\\n",
       "0   75    0  190   80   91  193  371  174  121  -16 ...   0.0  9.0 -0.9  0.0   \n",
       "1   56    1  165   64   81  174  401  149   39   25 ...   0.0  8.5  0.0  0.0   \n",
       "2   54    0  172   95  138  163  386  185  102   96 ...   0.0  9.5 -2.4  0.0   \n",
       "\n",
       "   274  275  276   277   278  279  \n",
       "0  0.0  0.9  2.9  23.3  49.4    8  \n",
       "1  0.0  0.2  2.1  20.4  38.8    6  \n",
       "2  0.0  0.3  3.4  12.3  49.0   10  \n",
       "\n",
       "[3 rows x 280 columns]"
      ]
     },
     "metadata": {},
     "output_type": "display_data"
    }
   ],
   "source": [
    "import pandas as pd\n",
    "import numpy as np\n",
    "\n",
    "#load the data\n",
    "data = pd.read_csv('http://archive.ics.uci.edu/ml/machine-learning-databases/'\n",
    "                   'arrhythmia/arrhythmia.data', header=None, sep=',', engine='python')\n",
    "\n",
    "display(data.head(3))"
   ]
  },
  {
   "cell_type": "markdown",
   "metadata": {},
   "source": [
    "* How big is the dataset?"
   ]
  },
  {
   "cell_type": "code",
   "execution_count": 13,
   "metadata": {},
   "outputs": [
    {
     "name": "stdout",
     "output_type": "stream",
     "text": [
      "452 rows and 280 columns\n"
     ]
    }
   ],
   "source": [
    "print('%d rows and %d columns' % (data.shape[0],data.shape[1]))"
   ]
  },
  {
   "cell_type": "markdown",
   "metadata": {},
   "source": [
    "* The last column of the dataset is the class label. It contains the 16 ECG classifications:"
   ]
  },
  {
   "cell_type": "code",
   "execution_count": 14,
   "metadata": {},
   "outputs": [
    {
     "data": {
      "text/plain": [
       "array([ 1,  2,  3,  4,  5,  6,  7,  8,  9, 10, 14, 15, 16])"
      ]
     },
     "execution_count": 14,
     "metadata": {},
     "output_type": "execute_result"
    }
   ],
   "source": [
    "np.unique(data[len(data.columns)-1])"
   ]
  },
  {
   "cell_type": "markdown",
   "metadata": {},
   "source": [
    "* Let's make that column (class label) dichotomous.\n",
    "* Value is 0 if ECG is normal, 1 otherwise"
   ]
  },
  {
   "cell_type": "code",
   "execution_count": 15,
   "metadata": {},
   "outputs": [],
   "source": [
    "data['arrhythmia'] = data[len(data.columns)-1].map(lambda x: 0 if x==1 else 1)\n",
    "data = data.drop(len(data.columns)-2, axis=1)"
   ]
  },
  {
   "cell_type": "markdown",
   "metadata": {},
   "source": [
    "* Are the groups balanced?"
   ]
  },
  {
   "cell_type": "code",
   "execution_count": 16,
   "metadata": {},
   "outputs": [
    {
     "data": {
      "text/plain": [
       "arrhythmia\n",
       "0    245\n",
       "1    207\n",
       "dtype: int64"
      ]
     },
     "execution_count": 16,
     "metadata": {},
     "output_type": "execute_result"
    }
   ],
   "source": [
    "data.groupby(['arrhythmia']).size()"
   ]
  },
  {
   "cell_type": "markdown",
   "metadata": {},
   "source": [
    "* Some columns have missing values denoted as '?'\n",
    "* To make the preprocessing simpler, let's just retain the columns with numeric values."
   ]
  },
  {
   "cell_type": "code",
   "execution_count": 17,
   "metadata": {},
   "outputs": [
    {
     "name": "stdout",
     "output_type": "stream",
     "text": [
      "452 rows and 275 columns\n"
     ]
    }
   ],
   "source": [
    "data = data._get_numeric_data()\n",
    "print('%d rows and %d columns' % (data.shape[0],data.shape[1]))"
   ]
  },
  {
   "cell_type": "code",
   "execution_count": 18,
   "metadata": {},
   "outputs": [
    {
     "data": {
      "text/html": [
       "<div>\n",
       "<style scoped>\n",
       "    .dataframe tbody tr th:only-of-type {\n",
       "        vertical-align: middle;\n",
       "    }\n",
       "\n",
       "    .dataframe tbody tr th {\n",
       "        vertical-align: top;\n",
       "    }\n",
       "\n",
       "    .dataframe thead th {\n",
       "        text-align: right;\n",
       "    }\n",
       "</style>\n",
       "<table border=\"1\" class=\"dataframe\">\n",
       "  <thead>\n",
       "    <tr style=\"text-align: right;\">\n",
       "      <th></th>\n",
       "      <th>0</th>\n",
       "      <th>1</th>\n",
       "      <th>2</th>\n",
       "      <th>3</th>\n",
       "      <th>4</th>\n",
       "      <th>5</th>\n",
       "      <th>6</th>\n",
       "      <th>7</th>\n",
       "      <th>8</th>\n",
       "      <th>9</th>\n",
       "      <th>...</th>\n",
       "      <th>270</th>\n",
       "      <th>271</th>\n",
       "      <th>272</th>\n",
       "      <th>273</th>\n",
       "      <th>274</th>\n",
       "      <th>275</th>\n",
       "      <th>276</th>\n",
       "      <th>277</th>\n",
       "      <th>278</th>\n",
       "      <th>arrhythmia</th>\n",
       "    </tr>\n",
       "  </thead>\n",
       "  <tbody>\n",
       "    <tr>\n",
       "      <th>0</th>\n",
       "      <td>75</td>\n",
       "      <td>0</td>\n",
       "      <td>190</td>\n",
       "      <td>80</td>\n",
       "      <td>91</td>\n",
       "      <td>193</td>\n",
       "      <td>371</td>\n",
       "      <td>174</td>\n",
       "      <td>121</td>\n",
       "      <td>-16</td>\n",
       "      <td>...</td>\n",
       "      <td>0.0</td>\n",
       "      <td>9.0</td>\n",
       "      <td>-0.9</td>\n",
       "      <td>0.0</td>\n",
       "      <td>0.0</td>\n",
       "      <td>0.9</td>\n",
       "      <td>2.9</td>\n",
       "      <td>23.3</td>\n",
       "      <td>49.4</td>\n",
       "      <td>1</td>\n",
       "    </tr>\n",
       "    <tr>\n",
       "      <th>1</th>\n",
       "      <td>56</td>\n",
       "      <td>1</td>\n",
       "      <td>165</td>\n",
       "      <td>64</td>\n",
       "      <td>81</td>\n",
       "      <td>174</td>\n",
       "      <td>401</td>\n",
       "      <td>149</td>\n",
       "      <td>39</td>\n",
       "      <td>25</td>\n",
       "      <td>...</td>\n",
       "      <td>0.0</td>\n",
       "      <td>8.5</td>\n",
       "      <td>0.0</td>\n",
       "      <td>0.0</td>\n",
       "      <td>0.0</td>\n",
       "      <td>0.2</td>\n",
       "      <td>2.1</td>\n",
       "      <td>20.4</td>\n",
       "      <td>38.8</td>\n",
       "      <td>1</td>\n",
       "    </tr>\n",
       "    <tr>\n",
       "      <th>2</th>\n",
       "      <td>54</td>\n",
       "      <td>0</td>\n",
       "      <td>172</td>\n",
       "      <td>95</td>\n",
       "      <td>138</td>\n",
       "      <td>163</td>\n",
       "      <td>386</td>\n",
       "      <td>185</td>\n",
       "      <td>102</td>\n",
       "      <td>96</td>\n",
       "      <td>...</td>\n",
       "      <td>0.0</td>\n",
       "      <td>9.5</td>\n",
       "      <td>-2.4</td>\n",
       "      <td>0.0</td>\n",
       "      <td>0.0</td>\n",
       "      <td>0.3</td>\n",
       "      <td>3.4</td>\n",
       "      <td>12.3</td>\n",
       "      <td>49.0</td>\n",
       "      <td>1</td>\n",
       "    </tr>\n",
       "  </tbody>\n",
       "</table>\n",
       "<p>3 rows × 275 columns</p>\n",
       "</div>"
      ],
      "text/plain": [
       "    0  1    2   3    4    5    6    7    8   9     ...      270  271  272  \\\n",
       "0  75  0  190  80   91  193  371  174  121 -16     ...      0.0  9.0 -0.9   \n",
       "1  56  1  165  64   81  174  401  149   39  25     ...      0.0  8.5  0.0   \n",
       "2  54  0  172  95  138  163  386  185  102  96     ...      0.0  9.5 -2.4   \n",
       "\n",
       "   273  274  275  276   277   278  arrhythmia  \n",
       "0  0.0  0.0  0.9  2.9  23.3  49.4           1  \n",
       "1  0.0  0.0  0.2  2.1  20.4  38.8           1  \n",
       "2  0.0  0.0  0.3  3.4  12.3  49.0           1  \n",
       "\n",
       "[3 rows x 275 columns]"
      ]
     },
     "execution_count": 18,
     "metadata": {},
     "output_type": "execute_result"
    }
   ],
   "source": [
    "data.head(3)"
   ]
  },
  {
   "cell_type": "code",
   "execution_count": 19,
   "metadata": {},
   "outputs": [
    {
     "name": "stdout",
     "output_type": "stream",
     "text": [
      "[0 1]\n",
      "(452, 274)\n"
     ]
    }
   ],
   "source": [
    "X = data.iloc[:, :-1]  # The first to second-last columns are the features\n",
    "y = data.iloc[:, -1]   # The last column is the ground-truth label\n",
    "print(np.unique(y))\n",
    "print(X.shape)"
   ]
  },
  {
   "cell_type": "code",
   "execution_count": 20,
   "metadata": {},
   "outputs": [],
   "source": [
    "# splitting the dataset to training and validation datasets\n",
    "from sklearn.model_selection import train_test_split\n",
    "X_train, X_test, y_train, y_test = train_test_split(X, y, test_size=0.2, random_state=20181004)"
   ]
  },
  {
   "cell_type": "code",
   "execution_count": 21,
   "metadata": {},
   "outputs": [],
   "source": [
    "# Standardizing the training and test datasets\n",
    "# Note that we are scaling based on the information from the training data\n",
    "# Then we apply the scaling that is done from training data to the test data\n",
    "\n",
    "from sklearn.preprocessing import StandardScaler\n",
    "\n",
    "sc = StandardScaler()\n",
    "sc.fit(X_train)\n",
    "X_train_std = sc.transform(X_train)\n",
    "X_test_std = sc.transform(X_test)"
   ]
  },
  {
   "cell_type": "markdown",
   "metadata": {},
   "source": [
    "### Please continue working from here."
   ]
  },
  {
   "cell_type": "code",
   "execution_count": 22,
   "metadata": {},
   "outputs": [],
   "source": [
    "class LogisticRegression(object):\n",
    "\n",
    "    def __init__(self, eta=0.05, n_epoch=100, random_state=1):\n",
    "        self.eta = eta\n",
    "        self.n_epoch = n_epoch\n",
    "        self.random_state = random_state\n",
    "    \n",
    "    def fit(self, X, y):\n",
    "        rgen = np.random.RandomState(self.random_state)\n",
    "        self.w_ = rgen.normal(loc=0.0, scale=0.01, size=1 + X.shape[1])\n",
    "        self.cost_ = []\n",
    "\n",
    "        for i in range(self.n_epoch):\n",
    "            net_input = self.net_input(X)\n",
    "            output = self.activation(net_input)\n",
    "            errors = (y - output)\n",
    "            self.w_[1:] += self.eta * X.T.dot(errors)\n",
    "            self.w_[0] += self.eta * errors.sum()\n",
    "            cost = self.loss(output, y)\n",
    "            self.cost_.append(cost)\n",
    "        return self\n",
    "    \n",
    "    def net_input(self, X):\n",
    "        \"\"\"Calculate net input\"\"\"\n",
    "        return np.dot(X, self.w_[1:]) + self.w_[0]\n",
    "\n",
    "    def loss(self, output, y):\n",
    "        \"\"\"Calculate loss\"\"\"\n",
    "        # TODO\n",
    "        return (-y * np.log(output) - (1 - y) * np.log(1 - output)).mean()\n",
    "    \n",
    "    def activation(self, z):\n",
    "        \"\"\"Compute logistic sigmoid activation\"\"\"\n",
    "        # TODO\n",
    "        return 1 / (1 + np.exp(-z))\n",
    "\n",
    "    def predict(self, X):\n",
    "        \"\"\"Return class label after unit step\"\"\"\n",
    "        # TODO\n",
    "        return self.activation(self.net_input(X)) >= 0.5 "
   ]
  },
  {
   "cell_type": "markdown",
   "metadata": {},
   "source": [
    "## Accurancy"
   ]
  },
  {
   "cell_type": "code",
   "execution_count": 23,
   "metadata": {},
   "outputs": [
    {
     "name": "stderr",
     "output_type": "stream",
     "text": [
      "/home/epl/.local/lib/python3.5/site-packages/pandas/core/computation/check.py:17: UserWarning: The installed version of numexpr 2.4.3 is not supported in pandas and will be not be used\n",
      "The minimum supported version is 2.4.6\n",
      "\n",
      "  ver=ver, min_ver=_MIN_NUMEXPR_VERSION), UserWarning)\n",
      "/home/epl/.local/lib/python3.5/site-packages/ipykernel_launcher.py:30: RuntimeWarning: divide by zero encountered in log\n"
     ]
    },
    {
     "name": "stdout",
     "output_type": "stream",
     "text": [
      "Accuracy (logistic, sklearn): 0.70\n"
     ]
    }
   ],
   "source": [
    "from sklearn.metrics import accuracy_score\n",
    "\n",
    "logistic = LogisticRegression()\n",
    "logistic.fit(X_train_std, y_train)\n",
    "y_pred = logistic.predict(X_test_std)\n",
    "\n",
    "print('Accuracy (logistic, sklearn): %.2f' % accuracy_score(y_pred, y_test))"
   ]
  },
  {
   "cell_type": "markdown",
   "metadata": {},
   "source": [
    "## Confusion Matrix"
   ]
  },
  {
   "cell_type": "code",
   "execution_count": 24,
   "metadata": {
    "scrolled": false
   },
   "outputs": [
    {
     "data": {
      "image/png": "[encoded data removed]",
      "text/plain": [
       "<matplotlib.figure.Figure at 0x7f4963b4b828>"
      ]
     },
     "metadata": {},
     "output_type": "display_data"
    }
   ],
   "source": [
    "from sklearn.metrics import confusion_matrix\n",
    "import matplotlib.pyplot as plt\n",
    "\n",
    "confmat = confusion_matrix(y_true=y_test, y_pred=y_pred)\n",
    "fig, ax = plt.subplots(figsize=(5,5))\n",
    "ax.matshow(confmat, cmap=plt.cm.Blues, alpha=0.3)\n",
    "for i in range(confmat.shape[0]):\n",
    "    for j in range(confmat.shape[1]):\n",
    "        ax.text(x=j, y=i, s=confmat[i, j], va='center', ha='center')\n",
    "plt.xlabel('Predicted label')\n",
    "plt.ylabel('True label')\n",
    "plt.tight_layout()\n",
    "for item in ([ax.title, ax.xaxis.label, ax.yaxis.label] +\n",
    "             ax.get_xticklabels() + ax.get_yticklabels()):\n",
    "    item.set_fontsize(20)\n",
    "for item in (ax.get_xticklabels() + ax.get_yticklabels()):\n",
    "    item.set_fontsize(15)\n",
    "plt.show()"
   ]
  },
  {
   "cell_type": "markdown",
   "metadata": {},
   "source": [
    "## $f_{1}$-score"
   ]
  },
  {
   "cell_type": "code",
   "execution_count": 25,
   "metadata": {},
   "outputs": [
    {
     "name": "stdout",
     "output_type": "stream",
     "text": [
      "[F1-score]\n",
      "Micro: 0.70\n",
      "Macro: 0.70\n"
     ]
    }
   ],
   "source": [
    "from sklearn.metrics import f1_score\n",
    "\n",
    "print('[F1-score]')\n",
    "f = f1_score(y_true=y_test, y_pred=y_pred, average='micro')\n",
    "print('Micro: %.2f' % f)\n",
    "f = f1_score(y_true=y_test, y_pred=y_pred, average='macro')\n",
    "print('Macro: %.2f' % f)"
   ]
  },
  {
   "cell_type": "markdown",
   "metadata": {},
   "source": [
    "# <a name='LR'>Logistic Regression</a>\n",
    "* 前言:\n",
    "    * Perceptron 能夠讓我們成功達成二元分類，但我們只能知道預測結果是A還是B，沒辦法知道是A、是B的機率是多少\n",
    "    * 例如我們要根據今天的溫度、濕度、風向來預測明天的天氣，通常我們會需要知道明天是晴天的機率以及雨天的機率，來決定是否帶傘具出門\n",
    "    * 使用Logistic Regression就可以幫我們達成這樣的目標\n",
    "* Logistic Regression(邏輯斯回歸)是一個**分類的模型**，而非回歸模型\n",
    "* 分類的模型大致跟Perceptron類似\n",
    "    * Perceptron是根據 $w0*x0+w1*x1+…+wn*xn >0$ 或$≤0$來判斷成A或B類\n",
    "    * Logistic Regression則是一個平滑的曲線，當$w0*x0+w1*x1+…+wn*xn$越大時判斷成A類的機率越大，越小時判斷成A類的機率越小\n",
    "* Perceptron與Logistic Regression模型差異:\n",
    "    <img src='https://cdn-images-1.medium.com/max/1400/1*3kUjZYHT6_Q7JrMgc17f4w.png' width='500'></img>\n",
    "* Perceptron與Logistic Regression的actination function:\n",
    "    <img src='https://cdn-images-1.medium.com/max/800/1*EipHXlFAXKHKLOcjhBnhYQ.png' width='500'></img>\n",
    "* Logistic Regression利用的是sigmoid函數\n",
    "    * Sigmoid函數，也稱為logistic function\n",
    "    * 函數特性: y 的值介於 0~1，這樣的分布也符合機率是在0~1的範圍中\n",
    "    * 使用Logistic function的原因: 介於0~1的平滑函數中相對簡單的\n",
    "* Logistic Regression不需要像Perceptron演算法需要去看一個一個的資料點來做更新，Logistic Regression有數學解的方法可以直接找到一組$W$\n",
    "    * 可以使用微積分以及梯度下降的知識來讓上方的式子變為一個相對的最大值\n",
    "-----------------------------------------------\n",
    "\n",
    "* 公式:\n",
    "<img src='https://cdn-images-1.medium.com/max/800/1*zyMqBU1fDzQmoYdIpnd9pA.png' width='250'></img>\n",
    "    * 為了數學推導方便，之前我們將二元分類的A類以+1表示、B類以-1表示，現在將A類改以+1表示、B類以0表示\n",
    "    * 想要找到一組w，能夠將下方的式子變成最大值，那組w就是我們要找的線($z=w*x$)\n",
    "    * 式子是希望當y=1的時候 ∅(z) 越靠近1（判斷成A類的機率越大），由於1-y是0所以右邊的項會是1，當y=0時左邊這項會是1右邊這項希望 ∅(z) 越靠近0越好（判斷成B類的機率越大）\n",
    "-----------------------------------------------\n",
    "* [Reference](https://medium.com/@yehjames/%E8%B3%87%E6%96%99%E5%88%86%E6%9E%90-%E6%A9%9F%E5%99%A8%E5%AD%B8%E7%BF%92-%E7%AC%AC3-3%E8%AC%9B-%E7%B7%9A%E6%80%A7%E5%88%86%E9%A1%9E-%E9%82%8F%E8%BC%AF%E6%96%AF%E5%9B%9E%E6%AD%B8-logistic-regression-%E4%BB%8B%E7%B4%B9-a1a5f47017e5)\n",
    "* [Go to Logistic Regression](#BackLR)"
   ]
  },
  {
   "cell_type": "markdown",
   "metadata": {},
   "source": [
    "# <a name='CM'>Confusion Matrix</a>\n",
    "* 所謂的Confusion Matrix，表格兩欄代表實際情形正向或反向，兩列代表預測情形正向或反向\n",
    "<img src='http://www.ycc.idv.tw/media/mechine_learning_measure/mechine_learning_measure.002.jpeg' width='400'></img>\n",
    "* 舉iphone當例子，iphone具有指紋識別解鎖系統:\n",
    "    * 你來按壓，而iphone也順利解鎖了，情形就屬於左上角的情況，稱為True Positive，也就是「正確的正向預測」\n",
    "    * 你按壓iphone，結果iphone認不得你的指紋，這就是左下角的情況，稱為False Negative，也就是「錯誤的負向預測」\n",
    "    * 朋友來按，正常情形你朋友的指紋應該沒辦法解鎖，這是右下角的情況，稱為True Negative，也就是「正確的負向預測」\n",
    "    * 朋友來按，你朋友的指紋解鎖，這是右上角的情況，稱為False Positive，也就是「錯誤的正向預測」\n",
    "* 從上面的描述，我們當然希望我們的模型True Positive和True Negative都可以多多出現，而False Positive和False Negative可以盡量不要出現，因此這兩種狀況就稱之為Error，又各自又命名為Type I Error和Type II Error，這兩種錯誤，錯的很不一樣\n",
    "* 如果今天指紋辨識不是放在iphone，而是放在你家大門鎖上，那你最不希望發生哪類錯誤？當然是Type I Error，我寧可被關在門外進不去，也不要有陌生人可以進我家囉！\n",
    "* 如果今天這個辨別系統是用在Google廣告，Google Ad會預測一個產品的潛在客戶，並做廣告投放，這個時候反而是較不希望Type II Error發生，寧可錯殺一百個也不要放過一個。\n",
    "-----------------------\n",
    "* [Reference](https://www.ycc.idv.tw/confusion-matrix.html)\n",
    "* [Go to Confusion Matrix](#BackCM)"
   ]
  },
  {
   "cell_type": "markdown",
   "metadata": {},
   "source": [
    "# <a name='ROC'>ROC曲線</a>\n",
    "* receiver operating characteristic curve，或者叫ROC曲線，是一種坐標圖式的分析工具\n",
    "* 以圖像的方式呈現二分類系統(binary classifier system)在特定的分類或閾值(discrimination threshold)下的表現\n",
    "* 圖形的縱軸(y-axis)為真陽性率(true positive rate; TPR)，又稱為敏感度(sensitivity)；橫軸(x-axis)為偽陽性率(false-posiitive rate; FPR)，以1 – 特異度(specificity)表示\n",
    "    * 敏感度為將結果正確判斷為陽性的機率\n",
    "    * 特異度將結果正確判斷為負向或陰性的機率\n",
    "* 當指定一個分界點(cut-point)來區分檢驗的陽性與陰性時，這個分界點會影響到診斷工具的敏感度(sensitivity)及特異度(specificity)\n",
    "* ROC曲線在判別時，會以對角線為一個參考線:\n",
    "    * 若是檢驗工具的ROC曲線剛好落在對角的參考線上，則表示檢驗工具對於此疾病的診斷**沒有鑑別性**\n",
    "    * 若是ROC曲線愈往左上方移動，表示檢驗工具對於疾病的敏感度愈高，且偽陽性率愈低，亦即此工具的鑑別力較佳，而最靠近左上角的的點 (0,1) 是錯誤歸類最少的切點，其敏感度(sensitivity)是最大的且偽陽性率(1 –specificity)是最小的\n",
    "----------------\n",
    "\n",
    "* [Reference](http://estat.pixnet.net/blog/post/61795603-roc%E6%9B%B2%E7%B7%9A-%28receiver-operating-characteristic-curve%29)\n",
    "* [Go to ROC](#BackROC)"
   ]
  },
  {
   "cell_type": "markdown",
   "metadata": {},
   "source": [
    "# <a name='AUC'>Area Under Curve (AUC)</a>\n",
    "* 一般在判別檢驗工具的好壞時，除了看曲線的圖形之外，也可以利用曲線下的面積(Area Under Curv; AUC)來判別ROC曲線的鑑別力\n",
    "* AUC數值的範圍從0到1，數值愈大愈好\n",
    "* AUC數值一般的判別規則：\n",
    "    * AUC=0.5 (no discrimination 無鑑別力)\n",
    "    * 0.7≦AUC≦0.8 (acceptable discrimination 可接受的鑑別力)\n",
    "    * 0.8≦AUC≦0.9 (excellent discrimination 優良的鑑別力)\n",
    "    * 0.9≦AUC≦1.0 (outstanding discrimination 極佳的鑑別力)\n",
    "---------------------------\n",
    "* [Reference](http://estat.pixnet.net/blog/post/61795603-roc%E6%9B%B2%E7%B7%9A-%28receiver-operating-characteristic-curve%29)\n",
    "* [Go to AUC](#BackAUC)  "
   ]
  },
  {
   "cell_type": "code",
   "execution_count": null,
   "metadata": {},
   "outputs": [],
   "source": []
  }
 ],
 "metadata": {
  "kernelspec": {
   "display_name": "Python 3",
   "language": "python",
   "name": "python3"
  },
  "language_info": {
   "codemirror_mode": {
    "name": "ipython",
    "version": 3
   },
   "file_extension": ".py",
   "mimetype": "text/x-python",
   "name": "python",
   "nbconvert_exporter": "python",
   "pygments_lexer": "ipython3",
   "version": "3.5.2"
  }
 },
 "nbformat": 4,
 "nbformat_minor": 2
}
