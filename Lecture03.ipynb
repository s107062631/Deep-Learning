{
 "cells": [
  {
   "cell_type": "markdown",
   "metadata": {},
   "source": [
    "# Decision Trees & Random Forests\n",
    "* The Decision Trees and Random Forests are two versatile machine learning models that are applicable to many machine learning tasks."
   ]
  },
  {
   "cell_type": "markdown",
   "metadata": {},
   "source": [
    "# General Machine Learning Steps\n",
    "1. Data collection, preprocessing (e.g., integration, cleaning, etc.), and exploration;\n",
    "    * Split a dataset into the training and testing datasets\n",
    "    *  資料收集、前處理、分成測試和訓練資料集\n",
    "2. Model development:\n",
    "    * A. Assume a model {$f$} that is a collection of candidate functions $f$’s (representing posteriori knowledge) we want to discover. Let's assume that each f is parametrized by w;\n",
    "    * A. 假設model {$f$}是收集我們想要找到候選(可能)function $f$，我們先假設$f$已經被$w$參數化\n",
    "    * B. Define a cost function C(w) that measures \"how good a particular f can explain the training data.\" The lower the cost function the better;\n",
    "    * B. 定義cost function$C$($w$)，主要是為了測量$f$在training data的情況下的好壞，loss越低越好\n",
    "3. Training: employ an algorithm that finds the best (or good enough) function f∗ in the model that minimizes the cost function over the training dataset;\n",
    "    * 利用演算法找出最好的function $f$ 能夠在training dataset上loss最小\n",
    "4. Testing: evaluate the performance of the learned f∗ using the testing dataset;\n",
    "    * 利用testing dataset去衡量$f*$的實際表現如何\n",
    "5. Apply the model in the real world."
   ]
  },
  {
   "cell_type": "markdown",
   "metadata": {},
   "source": [
    "# Decision Tree Classification\n",
    "* Now, consider a classification task defined over the Wine dataset: to predict the type (class label) of a wine (data point) based on its 13 constituents (attributes/variables/features). Followings are the steps we are going to perform:"
   ]
  },
  {
   "attachments": {
    "%E6%93%B7%E5%8F%96.PNG": {
     "image/png": "[encoded data removed]"
    }
   },
   "cell_type": "markdown",
   "metadata": {},
   "source": [
    "1. Randomly split the Wine dataset into the training dataset $\\mathbb{X}^{train}=\\{(x^{(i)},y^{(i)})\\}_i$ and testing dataset $\\mathbb{X}^{test}=\\{(x^{ '(i)},y^{ '(i)})\\}_i$\n",
    "    * 將dataset隨機分成training dataset和testing dataset\n",
    "2. Model development:\n",
    "    * A. Model: $\\{f(x)=y\\}$ where each f represents a decision tree;\n",
    "    * A. Model: 每個$f$代表一個decision tree\n",
    "    * B. Cost function: the entropy (impurity) of class labels of data corresponding to the leaf nodes;\n",
    "    * B. \n",
    "3. Training: to grow a tree f∗ by recursively splitting the leaf nodes such that each split leads to the maximal information gain over the corresponding training data;\n",
    "4. Testing: to calculate the prediction accuracy using the testing dataset.\n",
    "![%E6%93%B7%E5%8F%96.PNG](attachment:%E6%93%B7%E5%8F%96.PNG)\n",
    "5. Visualize $f∗$ so we can interpret the meaning of rules."
   ]
  },
  {
   "attachments": {},
   "cell_type": "markdown",
   "metadata": {},
   "source": [
    "# Entropy and Gini impurity\n",
    "* 在訓練過程中決策樹會問出一系列的問題像是溫度是否>125之類的是非問題\n",
    "* 由於我們希望獲得的資訊量要最大，因此經由分割後的資訊量要越小越好，常見的資訊量有兩種：熵(Entropy) 以及 Gini不純度(Gini Impurity)\n",
    "\n",
    "### Entropy\n",
    "<img src=\"https://cdn-images-1.medium.com/max/1600/1*_otZEQ9iVAJirblwdVnIIw.png\" width=\"450\">\n",
    "\n",
    "### Gini impurity\n",
    "<img src=\"https://cdn-images-1.medium.com/max/1600/1*WXHY6siVegJRKcFqxCRSYQ.png\" width=\"450\">\n",
    "\n",
    "### Example\n",
    "* 假設有80筆資料，有40是1類別、40筆是2類別。使用兩種不同的切割方法，第一種切割法（Ａ）會變把資料變成各40筆，其中左邊那份包含30筆1類別資料、10筆2類別資料，右邊包含10筆1類別資料、30筆2類別資料。第二種切割法（Ｂ）會把資料切成60/20筆，其中左邊那份包含20筆1類別資料、40筆2類別資料，右邊那份包只含了20筆1類別的資料。\n",
    "<img src=\"https://cdn-images-1.medium.com/max/1600/1*ep1NsolWzPR-yeVobyNo4A.png\" width=\"400\">"
   ]
  },
  {
   "attachments": {},
   "cell_type": "markdown",
   "metadata": {},
   "source": [
    "### Entropy\n",
    "<img src=\"https://cdn-images-1.medium.com/max/1600/1*IDMgYGnAzQfAIcTObS6pSA.png\" width=\"300\">\n",
    "\n",
    "### Gini impurity\n",
    "<img src=\"https://cdn-images-1.medium.com/max/1600/1*b_IYv0W-gCsGwRpAelFLnQ.png\" width=\"300\">\n",
    "\n",
    "* 我們可以發現不管是Entropy或是Gini impurity，都比較偏好第二種切割方法(B)\n",
    "* [Reference](https://medium.com/@yehjames/%E8%B3%87%E6%96%99%E5%88%86%E6%9E%90-%E6%A9%9F%E5%99%A8%E5%AD%B8%E7%BF%92-%E7%AC%AC3-5%E8%AC%9B-%E6%B1%BA%E7%AD%96%E6%A8%B9-decision-tree-%E4%BB%A5%E5%8F%8A%E9%9A%A8%E6%A9%9F%E6%A3%AE%E6%9E%97-random-forest-%E4%BB%8B%E7%B4%B9-7079b0ddfbda)"
   ]
  },
  {
   "cell_type": "markdown",
   "metadata": {},
   "source": [
    "# Preparing Data\n",
    "* In code, line 21 決定要怎麼分割data\n",
    "* Prepare the training and testing datasets:"
   ]
  },
  {
   "cell_type": "code",
   "execution_count": 1,
   "metadata": {},
   "outputs": [
    {
     "data": {
      "text/html": [
       "<div>\n",
       "<style scoped>\n",
       "    .dataframe tbody tr th:only-of-type {\n",
       "        vertical-align: middle;\n",
       "    }\n",
       "\n",
       "    .dataframe tbody tr th {\n",
       "        vertical-align: top;\n",
       "    }\n",
       "\n",
       "    .dataframe thead th {\n",
       "        text-align: right;\n",
       "    }\n",
       "</style>\n",
       "<table border=\"1\" class=\"dataframe\">\n",
       "  <thead>\n",
       "    <tr style=\"text-align: right;\">\n",
       "      <th></th>\n",
       "      <th>Class label</th>\n",
       "      <th>Alcohol</th>\n",
       "      <th>Malic acid</th>\n",
       "      <th>Ash</th>\n",
       "      <th>Alcalinity of ash</th>\n",
       "      <th>Magnesium</th>\n",
       "      <th>Total phenols</th>\n",
       "      <th>Flavanoids</th>\n",
       "      <th>Nonflavanoid phenols</th>\n",
       "      <th>Proanthocyanins</th>\n",
       "      <th>Color intensity</th>\n",
       "      <th>Hue</th>\n",
       "      <th>OD280/OD315 of diluted wines</th>\n",
       "      <th>Proline</th>\n",
       "    </tr>\n",
       "  </thead>\n",
       "  <tbody>\n",
       "    <tr>\n",
       "      <th>0</th>\n",
       "      <td>1</td>\n",
       "      <td>14.23</td>\n",
       "      <td>1.71</td>\n",
       "      <td>2.43</td>\n",
       "      <td>15.6</td>\n",
       "      <td>127</td>\n",
       "      <td>2.80</td>\n",
       "      <td>3.06</td>\n",
       "      <td>0.28</td>\n",
       "      <td>2.29</td>\n",
       "      <td>5.64</td>\n",
       "      <td>1.04</td>\n",
       "      <td>3.92</td>\n",
       "      <td>1065</td>\n",
       "    </tr>\n",
       "    <tr>\n",
       "      <th>1</th>\n",
       "      <td>1</td>\n",
       "      <td>13.20</td>\n",
       "      <td>1.78</td>\n",
       "      <td>2.14</td>\n",
       "      <td>11.2</td>\n",
       "      <td>100</td>\n",
       "      <td>2.65</td>\n",
       "      <td>2.76</td>\n",
       "      <td>0.26</td>\n",
       "      <td>1.28</td>\n",
       "      <td>4.38</td>\n",
       "      <td>1.05</td>\n",
       "      <td>3.40</td>\n",
       "      <td>1050</td>\n",
       "    </tr>\n",
       "    <tr>\n",
       "      <th>2</th>\n",
       "      <td>1</td>\n",
       "      <td>13.16</td>\n",
       "      <td>2.36</td>\n",
       "      <td>2.67</td>\n",
       "      <td>18.6</td>\n",
       "      <td>101</td>\n",
       "      <td>2.80</td>\n",
       "      <td>3.24</td>\n",
       "      <td>0.30</td>\n",
       "      <td>2.81</td>\n",
       "      <td>5.68</td>\n",
       "      <td>1.03</td>\n",
       "      <td>3.17</td>\n",
       "      <td>1185</td>\n",
       "    </tr>\n",
       "    <tr>\n",
       "      <th>3</th>\n",
       "      <td>1</td>\n",
       "      <td>14.37</td>\n",
       "      <td>1.95</td>\n",
       "      <td>2.50</td>\n",
       "      <td>16.8</td>\n",
       "      <td>113</td>\n",
       "      <td>3.85</td>\n",
       "      <td>3.49</td>\n",
       "      <td>0.24</td>\n",
       "      <td>2.18</td>\n",
       "      <td>7.80</td>\n",
       "      <td>0.86</td>\n",
       "      <td>3.45</td>\n",
       "      <td>1480</td>\n",
       "    </tr>\n",
       "    <tr>\n",
       "      <th>4</th>\n",
       "      <td>1</td>\n",
       "      <td>13.24</td>\n",
       "      <td>2.59</td>\n",
       "      <td>2.87</td>\n",
       "      <td>21.0</td>\n",
       "      <td>118</td>\n",
       "      <td>2.80</td>\n",
       "      <td>2.69</td>\n",
       "      <td>0.39</td>\n",
       "      <td>1.82</td>\n",
       "      <td>4.32</td>\n",
       "      <td>1.04</td>\n",
       "      <td>2.93</td>\n",
       "      <td>735</td>\n",
       "    </tr>\n",
       "  </tbody>\n",
       "</table>\n",
       "</div>"
      ],
      "text/plain": [
       "   Class label  Alcohol  Malic acid   Ash  Alcalinity of ash  Magnesium  \\\n",
       "0            1    14.23        1.71  2.43               15.6        127   \n",
       "1            1    13.20        1.78  2.14               11.2        100   \n",
       "2            1    13.16        2.36  2.67               18.6        101   \n",
       "3            1    14.37        1.95  2.50               16.8        113   \n",
       "4            1    13.24        2.59  2.87               21.0        118   \n",
       "\n",
       "   Total phenols  Flavanoids  Nonflavanoid phenols  Proanthocyanins  \\\n",
       "0           2.80        3.06                  0.28             2.29   \n",
       "1           2.65        2.76                  0.26             1.28   \n",
       "2           2.80        3.24                  0.30             2.81   \n",
       "3           3.85        3.49                  0.24             2.18   \n",
       "4           2.80        2.69                  0.39             1.82   \n",
       "\n",
       "   Color intensity   Hue  OD280/OD315 of diluted wines  Proline  \n",
       "0             5.64  1.04                          3.92     1065  \n",
       "1             4.38  1.05                          3.40     1050  \n",
       "2             5.68  1.03                          3.17     1185  \n",
       "3             7.80  0.86                          3.45     1480  \n",
       "4             4.32  1.04                          2.93      735  "
      ]
     },
     "metadata": {},
     "output_type": "display_data"
    },
    {
     "name": "stdout",
     "output_type": "stream",
     "text": [
      "#Training data points: 124\n",
      "#Testing data points: 54\n",
      "Class labels: [1 2 3]\n"
     ]
    }
   ],
   "source": [
    "import numpy as np\n",
    "import pandas as pd\n",
    "from IPython.display import display\n",
    "from sklearn.model_selection import train_test_split\n",
    "from sklearn.datasets import load_wine\n",
    "\n",
    "df = pd.read_csv('http://mlr.cs.umass.edu/ml/machine-learning-databases/wine/wine.data', header=None)\n",
    "\n",
    "df.columns = ['Class label', 'Alcohol', 'Malic acid', 'Ash',\n",
    "              'Alcalinity of ash', 'Magnesium', 'Total phenols',\n",
    "              'Flavanoids', 'Nonflavanoid phenols', 'Proanthocyanins', \n",
    "              'Color intensity', 'Hue', 'OD280/OD315 of diluted wines', 'Proline']\n",
    "\n",
    "display(df.head())\n",
    "\n",
    "X = df.drop('Class label', 1)\n",
    "y = df['Class label']\n",
    "#X, y = df.iloc[:, 1:].values, df.iloc[:, 0].values\n",
    "\n",
    "# split X into training and testing sets\n",
    "X_train, X_test, y_train, y_test = train_test_split(\n",
    "    X, y, test_size=0.3, random_state=0)\n",
    "\n",
    "print('#Training data points: %d' % X_train.shape[0])\n",
    "print('#Testing data points: %d' % X_test.shape[0])\n",
    "print('Class labels:', np.unique(y))"
   ]
  },
  {
   "cell_type": "markdown",
   "metadata": {},
   "source": [
    "# Training\n",
    "* The [Scikit-learn](https://scikit-learn.org/stable/) package provides the off-the-shelf implementation of various machine learning models/algorithms, including the decision trees. \n",
    "* <font color=Red>NOTE</font>: you are not required to standardize the data features before building a decision tree (or a random forest) because the information gain of a cutting point does not change when we scale values of an attribute.\n",
    "* We can simply use it to build a decision tree for our training set:"
   ]
  },
  {
   "cell_type": "code",
   "execution_count": 2,
   "metadata": {},
   "outputs": [
    {
     "data": {
      "text/plain": [
       "DecisionTreeClassifier(class_weight=None, criterion='entropy', max_depth=3,\n",
       "            max_features=None, max_leaf_nodes=None,\n",
       "            min_impurity_decrease=0.0, min_impurity_split=None,\n",
       "            min_samples_leaf=1, min_samples_split=2,\n",
       "            min_weight_fraction_leaf=0.0, presort=False, random_state=0,\n",
       "            splitter='best')"
      ]
     },
     "execution_count": 2,
     "metadata": {},
     "output_type": "execute_result"
    }
   ],
   "source": [
    "from sklearn.tree import DecisionTreeClassifier\n",
    "\n",
    "# criterion : impurity function\n",
    "# max_depth : maximum depth of tree\n",
    "# random_state : seed of random number generator\n",
    "tree = DecisionTreeClassifier(criterion='entropy', \n",
    "                              max_depth=3, \n",
    "                              random_state=0)\n",
    "tree.fit(X_train, y_train)"
   ]
  },
  {
   "cell_type": "markdown",
   "metadata": {},
   "source": [
    "# Testing\n",
    "* Let's apply it to our testing set to see how it performs:"
   ]
  },
  {
   "cell_type": "code",
   "execution_count": 3,
   "metadata": {},
   "outputs": [
    {
     "name": "stdout",
     "output_type": "stream",
     "text": [
      "Misclassified samples: 2\n",
      "Accuracy (tree): 0.96\n",
      "Accuracy (tree, sklearn): 0.96\n"
     ]
    }
   ],
   "source": [
    "y_pred = tree.predict(X_test)\n",
    "print('Misclassified samples: %d' % (y_test != y_pred).sum())\n",
    "print('Accuracy (tree): %.2f' % ((y_test == y_pred).sum() / y_test.shape[0]))\n",
    "\n",
    "# a more convenient way to evaluate a trained model is to use the sklearn.metrics \n",
    "from sklearn.metrics import accuracy_score\n",
    "print('Accuracy (tree, sklearn): %.2f' % accuracy_score(y_test, y_pred))"
   ]
  },
  {
   "cell_type": "markdown",
   "metadata": {},
   "source": [
    "# Visualization\n",
    "* By visualizing a tree, we can understand how a prediction is made by breaking down a classification rule into a series of questions about the data features.\n",
    "* A nice feature of the DecisionTreeClassifier in Scikit-learn is that it allows us to export the decision tree as a .dot file after training, which we can visualize using the [GraphViz](http://www.graphviz.org/) program.\n",
    "* Convert the tree.dot file into a PNG file by executing the following GraphViz\n",
    "* GraphViz command from the command line under the same directory where tree.dot resides:]\n",
    "    * \\> dot -Tpng tree.dot -o fig-tree.png"
   ]
  },
  {
   "cell_type": "code",
   "execution_count": 4,
   "metadata": {},
   "outputs": [],
   "source": [
    "from sklearn.tree import export_graphviz\n",
    "\n",
    "export_graphviz(tree, out_file='./output/tree.dot', \n",
    "                feature_names=X.columns.values)"
   ]
  },
  {
   "cell_type": "markdown",
   "metadata": {},
   "source": [
    "# <a name='Randomforest'>Random Forests</a>\n",
    "* Intuitively, a random forest can be considered as an ensemble of decision trees.\n",
    "* The idea behind ensemble learning is to combine weak learners to build a more robust model, a strong learner, that has a better generalization performance.\n",
    "* The random forest algorithm can be summarized in four simple steps:"
   ]
  },
  {
   "cell_type": "markdown",
   "metadata": {},
   "source": [
    "1. Randomly draw $M$ [bootstrap samples](#bootstrap) from the training set with replacement;\n",
    "2. Grow a decision tree from the bootstrap samples. At each node:\n",
    "    * A. Randomly select $K$ features without replacement;\n",
    "    * B. Split the node by finding the best cut among the selected features that maximizes the information gain;\n",
    "3. Repeat the steps 1 to 2 $T$ times to get $T$ trees;\n",
    "4. Aggregate the predictions made by different trees via the majority vote."
   ]
  },
  {
   "cell_type": "markdown",
   "metadata": {},
   "source": [
    "   * Although random forests don't offer the same level of interpretability as decision trees, a big advantage of random forests is that we don't have to worry so much about the depth of trees since the majority vote can \"absorb\" the noise from individual trees.\n",
    "   * The only parameter that we need to care about in practice is the number of trees T at step 3.\n",
    "   * Generally, the larger the number of trees, the better the performance of the random forest classifier at the expense of an increased computational cost. \n",
    "   * Another advantage is that the computational cost can be distributed to multiple cores/machines since each tree can grow independently."
   ]
  },
  {
   "cell_type": "markdown",
   "metadata": {},
   "source": [
    "# Training\n",
    "* <font color='Red'>NOTE</font>: In most implementations, including the RandomForestClassifier implementation in Scikit-learn, the bootstrap sample size M is equal to the number of samples N in the original training set by default.For the number of features $K$ to select at each split, the default that is used in Scikit-learn (and many other implementations) is $K=\\sqrt{D}$ , where D is the number of features of data points.\n",
    "* Build a random forest by using the RandomForestClassifier in Scikit-learn:"
   ]
  },
  {
   "cell_type": "code",
   "execution_count": 5,
   "metadata": {},
   "outputs": [
    {
     "name": "stdout",
     "output_type": "stream",
     "text": [
      "Accuracy (forest): 0.98\n"
     ]
    }
   ],
   "source": [
    "from sklearn.ensemble import RandomForestClassifier\n",
    "\n",
    "# criterion : impurity function\n",
    "# n_estimators :  number of decision trees\n",
    "# random_state : seed used by the random number generator\n",
    "# n_jobs : number of cores for parallelism\n",
    "forest = RandomForestClassifier(criterion='entropy',\n",
    "                                n_estimators=200, \n",
    "                                random_state=1,\n",
    "                                n_jobs=2)\n",
    "forest.fit(X_train, y_train)\n",
    "\n",
    "y_pred = forest.predict(X_test)\n",
    "print('Accuracy (forest): %.2f' % accuracy_score(y_test, y_pred))"
   ]
  },
  {
   "cell_type": "markdown",
   "metadata": {},
   "source": [
    "# Computing Feature Importance\n",
    "* In addition to classification, a random forest can be used to calculate the feature importance.\n",
    "* We can measure feature importance as the averaged information gain (impurity decrease) computed from all decision trees in the forest."
   ]
  },
  {
   "cell_type": "code",
   "execution_count": 6,
   "metadata": {},
   "outputs": [
    {
     "name": "stdout",
     "output_type": "stream",
     "text": [
      " 1) Flavanoids                     0.188736\n",
      " 2) OD280/OD315 of diluted wines   0.162445\n",
      " 3) Proline                        0.158390\n",
      " 4) Color intensity                0.154620\n",
      " 5) Alcohol                        0.102004\n",
      " 6) Hue                            0.065470\n",
      " 7) Total phenols                  0.049602\n",
      " 8) Alcalinity of ash              0.030379\n",
      " 9) Proanthocyanins                0.023283\n",
      "10) Malic acid                     0.022439\n",
      "11) Magnesium                      0.018800\n",
      "12) Nonflavanoid phenols           0.012507\n",
      "13) Ash                            0.011325\n"
     ]
    },
    {
     "data": {
      "image/png": "[encoded data removed]",
      "text/plain": [
       "<Figure size 432x288 with 1 Axes>"
      ]
     },
     "metadata": {
      "needs_background": "light"
     },
     "output_type": "display_data"
    }
   ],
   "source": [
    "# inline plotting instead of popping out\n",
    "%matplotlib inline\n",
    "\n",
    "import numpy as np\n",
    "import matplotlib.pyplot as plt\n",
    "\n",
    "importances = forest.feature_importances_\n",
    "# get sort indices in descending order\n",
    "indices = np.argsort(importances)[::-1]\n",
    "\n",
    "for f in range(X_train.shape[1]):\n",
    "    print(\"%2d) %-*s %f\" % (f + 1, 30, \n",
    "                            X.columns.values[indices[f]], \n",
    "                            importances[indices[f]]))\n",
    "\n",
    "plt.figure()\n",
    "plt.title('Feature Importances')\n",
    "#畫直方圖\n",
    "plt.bar(range(X_train.shape[1]),\n",
    "        importances[indices],\n",
    "        align='center',\n",
    "        alpha=0.5)\n",
    "\n",
    "plt.xticks(range(X_train.shape[1]), \n",
    "           X.columns.values[indices], rotation=90)\n",
    "plt.tight_layout()\n",
    "plt.savefig('./output/fig-forest-feature-importances.png', dpi=300)\n",
    "plt.show()"
   ]
  },
  {
   "cell_type": "markdown",
   "metadata": {},
   "source": [
    "# Feature Selection\n",
    "* By discarding the unimportant features, we can reduce the dimension of data points and compress data.\n",
    "* For example, $Z_{Forest}$ is a compressed 2-D dataset that contains only the most important two features \"Flavanoids\" and \"OD280/OD315 of diluted wines:\""
   ]
  },
  {
   "cell_type": "code",
   "execution_count": 7,
   "metadata": {},
   "outputs": [
    {
     "data": {
      "image/png": "[encoded data removed]",
      "text/plain": [
       "<Figure size 432x288 with 1 Axes>"
      ]
     },
     "metadata": {
      "needs_background": "light"
     },
     "output_type": "display_data"
    }
   ],
   "source": [
    "import matplotlib.pyplot as plt\n",
    "\n",
    "#Select first two values\n",
    "Z_forest = X[['Flavanoids', 'OD280/OD315 of diluted wines']].values\n",
    "\n",
    "colors = ['r', 'b', 'g']\n",
    "markers = ['s', 'x', 'o']\n",
    "for l, c, m in zip(np.unique(y.values), colors, markers):\n",
    "    plt.scatter(Z_forest[y.values==l, 0], \n",
    "                Z_forest[y.values==l, 1], \n",
    "                c=c, label=l, marker=m)\n",
    "\n",
    "plt.title('Z_forest')\n",
    "plt.xlabel('Flavanoids')\n",
    "plt.ylabel('OD280/OD315 of diluted wines')\n",
    "plt.legend(loc='lower right')\n",
    "plt.tight_layout()\n",
    "plt.savefig('./output/fig-forest-z.png', dpi=300)\n",
    "plt.show()"
   ]
  },
  {
   "cell_type": "markdown",
   "metadata": {},
   "source": [
    "* <font color='Red'>NOTE</font>: It is worth mentioning that Scikit-learn also implements a class called <font color='brown'>SelectFromModel</font> that helps you select features based on a user-specified threshold, which is useful if we want to use the RandomForestClassifier as a feature selector.\n",
    "* For example, we could set the threshold to 0.16 to get $Z_{Forest}$ :"
   ]
  },
  {
   "cell_type": "code",
   "execution_count": 8,
   "metadata": {},
   "outputs": [
    {
     "name": "stdout",
     "output_type": "stream",
     "text": [
      " 1) Flavanoids                     0.188736\n",
      " 2) OD280/OD315 of diluted wines   0.162445\n"
     ]
    }
   ],
   "source": [
    "from sklearn.feature_selection import SelectFromModel\n",
    "\n",
    "# put prefitted RandomForestClassifier \"forest\" into SelectFromModel\n",
    "sfm = SelectFromModel(forest, threshold=0.16, prefit=True)\n",
    "Z_forest_alt = sfm.transform(X)\n",
    "\n",
    "for f in range(Z_forest_alt.shape[1]): #mdf\n",
    "    print(\"%2d) %-*s %f\" % (f + 1, 30, \n",
    "                            X.columns.values[indices[f]], \n",
    "                            importances[indices[f]]))"
   ]
  },
  {
   "cell_type": "markdown",
   "metadata": {},
   "source": [
    "# Dimension Reduction: PCA vs. Random Forest\n",
    "* We have seen two dimension reduction techniques: PCA and feature selection based on Random Forest.\n",
    "\n",
    "### PCA\n",
    "* PCA is an **unsupervised** dimension reduction technique since it does not require the class labels.\n",
    "* PCA is a **feature extraction technique** (as opposed to feature selection) in the sense that a reduced feature may not be identical to any of the original features.\n",
    "\n",
    "### Random Forest\n",
    "* Random Forest is a **supervised dimension** reduction technique as the labels are used for computing the information gain for each node split.  "
   ]
  },
  {
   "cell_type": "markdown",
   "metadata": {},
   "source": [
    "* <font color='Red'>NOTE</font>: If you don't have Z_pca.npy, you need to run the code on Lecture02 first.  \n",
    "* Next, let's build classifiers for the two compressed datasets $Z_{PCA}$ and $Z_{Forest}$ and compare their performance:"
   ]
  },
  {
   "cell_type": "code",
   "execution_count": 9,
   "metadata": {},
   "outputs": [
    {
     "name": "stdout",
     "output_type": "stream",
     "text": [
      "Accuracy (tree_forest): 0.83\n",
      "Accuracy (tree_pca): 0.96\n"
     ]
    }
   ],
   "source": [
    "import numpy as np\n",
    "from sklearn.model_selection import train_test_split\n",
    "from sklearn.tree import DecisionTreeClassifier\n",
    "from sklearn.metrics import accuracy_score\n",
    "\n",
    "# train a decision tree based on Z_forest\n",
    "\n",
    "Z_forest_train, Z_forest_test, y_forest_train, y_forest_test = train_test_split(\n",
    "    Z_forest, y, test_size=0.3, random_state=0)\n",
    "\n",
    "tree_forest = DecisionTreeClassifier(criterion='entropy', \n",
    "                                     max_depth=3, \n",
    "                                     random_state=0)\n",
    "tree_forest.fit(Z_forest_train, y_forest_train)\n",
    "\n",
    "y_forest_pred = tree_forest.predict(Z_forest_test)\n",
    "print('Accuracy (tree_forest): %.2f' % accuracy_score(y_forest_test, y_forest_pred))\n",
    "\n",
    "# train a decision tree based on Z_pca\n",
    "\n",
    "# load Z_pca that we have created in our last lab\n",
    "Z_pca= np.load('./Z_pca.npy')\n",
    "# random_state should be the same as that used to split the Z_forest\n",
    "Z_pca_train, Z_pca_test, y_pca_train, y_pca_test = train_test_split(\n",
    "    Z_pca, y, test_size=0.3, random_state=0)\n",
    "\n",
    "tree_pca = DecisionTreeClassifier(criterion='entropy', \n",
    "                                  max_depth=3, \n",
    "                                  random_state=0)\n",
    "tree_pca.fit(Z_pca_train, y_pca_train)\n",
    "\n",
    "y_pca_pred = tree_pca.predict(Z_pca_test)\n",
    "print('Accuracy (tree_pca): %.2f' % accuracy_score(y_pca_test, y_pca_pred))"
   ]
  },
  {
   "cell_type": "markdown",
   "metadata": {},
   "source": [
    "* The same holds for the Random Forest classifiers:"
   ]
  },
  {
   "cell_type": "code",
   "execution_count": 10,
   "metadata": {},
   "outputs": [
    {
     "name": "stdout",
     "output_type": "stream",
     "text": [
      "Accuracy (forest_forest): 0.67\n",
      "Accuracy (forest_pca): 0.98\n"
     ]
    }
   ],
   "source": [
    "import numpy as np\n",
    "from sklearn.ensemble import RandomForestClassifier\n",
    "from sklearn.metrics import accuracy_score\n",
    "\n",
    "# train a random forest based on Z_forest\n",
    "\n",
    "forest_forest = RandomForestClassifier(criterion='entropy',\n",
    "                                n_estimators=200, \n",
    "                                random_state=1,\n",
    "                                n_jobs=2)\n",
    "forest_forest.fit(Z_forest_train, y_forest_train)\n",
    "\n",
    "y_forest_pred = forest_forest.predict(Z_forest_test)\n",
    "print('Accuracy (forest_forest): %.2f' % accuracy_score(y_forest_test, y_forest_pred))\n",
    "\n",
    "\n",
    "# train a random forest based on Z_pca\n",
    "\n",
    "forest_pca = RandomForestClassifier(criterion='entropy',\n",
    "                                n_estimators=200, \n",
    "                                random_state=1,\n",
    "                                n_jobs=2)\n",
    "forest_pca.fit(Z_pca_train, y_pca_train)\n",
    "\n",
    "y_pca_pred = forest_pca.predict(Z_pca_test)\n",
    "print('Accuracy (forest_pca): %.2f' % accuracy_score(y_pca_test, y_pca_pred))"
   ]
  },
  {
   "cell_type": "markdown",
   "metadata": {},
   "source": [
    "# Further Visualization\n",
    "* When the data dimension is 2, we can easily plot the decision boundaries of a classifier.\n",
    "*  Let's take a look at the decision boundaries of the Decision Tree and Random Forest classifiers we have for $Z_{PCA}$ and $Z_{Forest}$. "
   ]
  },
  {
   "cell_type": "code",
   "execution_count": 11,
   "metadata": {},
   "outputs": [],
   "source": [
    "from matplotlib.colors import ListedColormap\n",
    "import matplotlib.pyplot as plt\n",
    "import numpy as np\n",
    "\n",
    "def plot_decision_regions(X, y, classifier, test_idx=None, resolution=0.02):\n",
    "\n",
    "    # setup marker generator and color map\n",
    "    markers = ('s', 'x', 'o', '^', 'v')\n",
    "    colors = ('red', 'blue', 'lightgreen', 'gray', 'cyan')\n",
    "    cmap = ListedColormap(colors[:len(np.unique(y))])\n",
    "\n",
    "    # plot the decision surface\n",
    "    x1_min, x1_max = X[:, 0].min() - 1, X[:, 0].max() + 1\n",
    "    x2_min, x2_max = X[:, 1].min() - 1, X[:, 1].max() + 1\n",
    "    # meshgrid函數用兩個座標軸上的點在平面上畫網格\n",
    "    xx1, xx2 = np.meshgrid(np.arange(x1_min, x1_max, resolution),\n",
    "                           np.arange(x2_min, x2_max, resolution))\n",
    "\n",
    "    Z = classifier.predict(np.array([xx1.ravel(), xx2.ravel()]).T)\n",
    "    Z = Z.reshape(xx1.shape)\n",
    "    #contourf等高線圖\n",
    "    plt.contourf(xx1, xx2, Z, alpha=0.4, cmap=cmap)\n",
    "    plt.xlim(xx1.min(), xx1.max())\n",
    "    plt.ylim(xx2.min(), xx2.max())\n",
    "\n",
    "    # plot class samples\n",
    "    for idx, cl in enumerate(np.unique(y)):\n",
    "        plt.scatter(x=X[y == cl, 0], y=X[y == cl, 1],\n",
    "                    alpha=0.8, c=cmap(idx),\n",
    "                    marker=markers[idx], label=cl)\n",
    "\n",
    "    # highlight test samples\n",
    "    if test_idx:\n",
    "        # plot all samples\n",
    "        X_test, y_test = X[test_idx, :], y[test_idx]\n",
    "\n",
    "        plt.scatter(X_test[:, 0],\n",
    "                    X_test[:, 1],\n",
    "                    c='',\n",
    "                    alpha=1.0,\n",
    "                    linewidths=1,\n",
    "                    marker='o',\n",
    "                    s=55, label='test set', edgecolors='k')\n"
   ]
  },
  {
   "cell_type": "markdown",
   "metadata": {},
   "source": [
    "* Next, we plot the decision boundaries by combining the training and testing sets deterministically:"
   ]
  },
  {
   "cell_type": "code",
   "execution_count": 12,
   "metadata": {},
   "outputs": [
    {
     "name": "stderr",
     "output_type": "stream",
     "text": [
      "'c' argument looks like a single numeric RGB or RGBA sequence, which should be avoided as value-mapping will have precedence in case its length matches with 'x' & 'y'.  Please use a 2-D array with a single row if you really want to specify the same RGB or RGBA value for all points.\n",
      "'c' argument looks like a single numeric RGB or RGBA sequence, which should be avoided as value-mapping will have precedence in case its length matches with 'x' & 'y'.  Please use a 2-D array with a single row if you really want to specify the same RGB or RGBA value for all points.\n",
      "'c' argument looks like a single numeric RGB or RGBA sequence, which should be avoided as value-mapping will have precedence in case its length matches with 'x' & 'y'.  Please use a 2-D array with a single row if you really want to specify the same RGB or RGBA value for all points.\n"
     ]
    },
    {
     "data": {
      "image/png": "[encoded data removed]",
      "text/plain": [
       "<Figure size 432x288 with 1 Axes>"
      ]
     },
     "metadata": {
      "needs_background": "light"
     },
     "output_type": "display_data"
    },
    {
     "name": "stderr",
     "output_type": "stream",
     "text": [
      "'c' argument looks like a single numeric RGB or RGBA sequence, which should be avoided as value-mapping will have precedence in case its length matches with 'x' & 'y'.  Please use a 2-D array with a single row if you really want to specify the same RGB or RGBA value for all points.\n",
      "'c' argument looks like a single numeric RGB or RGBA sequence, which should be avoided as value-mapping will have precedence in case its length matches with 'x' & 'y'.  Please use a 2-D array with a single row if you really want to specify the same RGB or RGBA value for all points.\n",
      "'c' argument looks like a single numeric RGB or RGBA sequence, which should be avoided as value-mapping will have precedence in case its length matches with 'x' & 'y'.  Please use a 2-D array with a single row if you really want to specify the same RGB or RGBA value for all points.\n"
     ]
    },
    {
     "data": {
      "image/png": "[encoded data removed]",
      "text/plain": [
       "<Figure size 432x288 with 1 Axes>"
      ]
     },
     "metadata": {
      "needs_background": "light"
     },
     "output_type": "display_data"
    }
   ],
   "source": [
    "import numpy as np\n",
    "import matplotlib.pyplot as plt\n",
    "# plot boundaries of tree_forest\n",
    "\n",
    "Z_forest_combined = np.vstack((Z_forest_train, Z_forest_test))\n",
    "y_forest_combined = np.hstack((y_forest_train, y_forest_test))\n",
    "plot_decision_regions(Z_forest_combined, \n",
    "                      y_forest_combined, \n",
    "                      classifier=tree_forest, \n",
    "                      test_idx=range(y_forest_train.shape[0],\n",
    "                                     y_forest_train.shape[0] + y_forest_test.shape[0]))\n",
    "\n",
    "plt.title('Tree_forest')\n",
    "plt.xlabel('Color intensity')\n",
    "plt.ylabel('Flavanoids')\n",
    "plt.legend(loc='lower right')\n",
    "plt.tight_layout()\n",
    "plt.savefig('./output/fig-boundary-tree-forest.png', dpi=300)\n",
    "plt.show()\n",
    "\n",
    "# plot boundaries of tree_pca\n",
    "\n",
    "Z_pca_combined = np.vstack((Z_pca_train, Z_pca_test))\n",
    "y_pca_combined = np.hstack((y_pca_train, y_pca_test))\n",
    "plot_decision_regions(Z_pca_combined, \n",
    "                      y_pca_combined, \n",
    "                      classifier=tree_pca, \n",
    "                      test_idx=range(y_pca_train.shape[0],\n",
    "                                     y_pca_train.shape[0] + y_pca_test.shape[0]))\n",
    "\n",
    "plt.title('Tree_pca')\n",
    "plt.xlabel('PC 1')\n",
    "plt.ylabel('PC 2')\n",
    "plt.legend(loc='lower right')\n",
    "plt.tight_layout()\n",
    "plt.savefig('./output/fig-boundary-tree-pca.png', dpi=300)\n",
    "plt.show()"
   ]
  },
  {
   "cell_type": "markdown",
   "metadata": {},
   "source": [
    "* As we can see, the decision boundaries of a decision tree are always axis-aligned.\n",
    "* This means that if a \"true\" boundary is not axis-aligned, the tree needs to be very deep to approximate the boundary using the \"staircase\" one. "
   ]
  },
  {
   "cell_type": "code",
   "execution_count": 13,
   "metadata": {},
   "outputs": [
    {
     "name": "stderr",
     "output_type": "stream",
     "text": [
      "'c' argument looks like a single numeric RGB or RGBA sequence, which should be avoided as value-mapping will have precedence in case its length matches with 'x' & 'y'.  Please use a 2-D array with a single row if you really want to specify the same RGB or RGBA value for all points.\n",
      "'c' argument looks like a single numeric RGB or RGBA sequence, which should be avoided as value-mapping will have precedence in case its length matches with 'x' & 'y'.  Please use a 2-D array with a single row if you really want to specify the same RGB or RGBA value for all points.\n",
      "'c' argument looks like a single numeric RGB or RGBA sequence, which should be avoided as value-mapping will have precedence in case its length matches with 'x' & 'y'.  Please use a 2-D array with a single row if you really want to specify the same RGB or RGBA value for all points.\n"
     ]
    },
    {
     "data": {
      "image/png": "[encoded data removed]",
      "text/plain": [
       "<Figure size 432x288 with 1 Axes>"
      ]
     },
     "metadata": {
      "needs_background": "light"
     },
     "output_type": "display_data"
    },
    {
     "name": "stderr",
     "output_type": "stream",
     "text": [
      "'c' argument looks like a single numeric RGB or RGBA sequence, which should be avoided as value-mapping will have precedence in case its length matches with 'x' & 'y'.  Please use a 2-D array with a single row if you really want to specify the same RGB or RGBA value for all points.\n",
      "'c' argument looks like a single numeric RGB or RGBA sequence, which should be avoided as value-mapping will have precedence in case its length matches with 'x' & 'y'.  Please use a 2-D array with a single row if you really want to specify the same RGB or RGBA value for all points.\n",
      "'c' argument looks like a single numeric RGB or RGBA sequence, which should be avoided as value-mapping will have precedence in case its length matches with 'x' & 'y'.  Please use a 2-D array with a single row if you really want to specify the same RGB or RGBA value for all points.\n"
     ]
    },
    {
     "data": {
      "image/png": "[encoded data removed]",
      "text/plain": [
       "<Figure size 432x288 with 1 Axes>"
      ]
     },
     "metadata": {
      "needs_background": "light"
     },
     "output_type": "display_data"
    }
   ],
   "source": [
    "import numpy as np\n",
    "import matplotlib.pyplot as plt\n",
    "\n",
    "# plot boundaries of tree_forest\n",
    "\n",
    "plot_decision_regions(Z_forest_combined, \n",
    "                      y_forest_combined, \n",
    "                      classifier=forest_forest, \n",
    "                      test_idx=range(y_forest_train.shape[0],\n",
    "                                     y_forest_train.shape[0] + y_forest_test.shape[0]))\n",
    "\n",
    "plt.title('Forest_forest')\n",
    "plt.xlabel('Color intensity')\n",
    "plt.ylabel('Flavanoids')\n",
    "plt.legend(loc='lower right')\n",
    "plt.tight_layout()\n",
    "plt.savefig('./output/fig-boundary-forest-forest.png', dpi=300)\n",
    "plt.show()\n",
    "\n",
    "# plot boundaries of tree_pca\n",
    "\n",
    "plot_decision_regions(Z_pca_combined, \n",
    "                      y_pca_combined, \n",
    "                      classifier=forest_pca, \n",
    "                      test_idx=range(y_pca_train.shape[0],\n",
    "                                     y_pca_train.shape[0] + y_pca_test.shape[0]))\n",
    "\n",
    "plt.title('Forest_pca')\n",
    "plt.xlabel('PC 1')\n",
    "plt.ylabel('PC 2')\n",
    "plt.legend(loc='lower right')\n",
    "plt.tight_layout()\n",
    "plt.savefig('./output/fig-boundary-forest-pca.png', dpi=300)\n",
    "plt.show()"
   ]
  },
  {
   "cell_type": "markdown",
   "metadata": {},
   "source": [
    "# Assignment\n",
    "* We try to make predition from another dataset [breast cancer wisconsin](https://archive.ics.uci.edu/ml/datasets/Breast+Cancer+Wisconsin+(Diagnostic)). But there are too many features in this dataset. Please try to improve accuracy per feature $\\$\\frac{accuracy}{\\#feature}\\$$"
   ]
  },
  {
   "cell_type": "markdown",
   "metadata": {},
   "source": [
    "### HINT:\n",
    "1. You can improve the ratio by picking out several important features.\n",
    "2. The ratio can be improved from 0.03 up to 0.44."
   ]
  },
  {
   "cell_type": "code",
   "execution_count": 14,
   "metadata": {},
   "outputs": [
    {
     "name": "stdout",
     "output_type": "stream",
     "text": [
      "Accuracy: 0.98\n",
      "Accuracy per feature: 0.03\n"
     ]
    }
   ],
   "source": [
    "from sklearn.tree import DecisionTreeClassifier\n",
    "from sklearn.model_selection import train_test_split\n",
    "from sklearn.datasets import load_breast_cancer\n",
    "import pandas as pd\n",
    "from sklearn.metrics import accuracy_score\n",
    "from sklearn.ensemble import RandomForestClassifier\n",
    "\n",
    "# load the breast_cancer dataset\n",
    "init_data = load_breast_cancer()\n",
    "(X, y) = load_breast_cancer(return_X_y=True)\n",
    "# X = pd.DataFrame(data=X, columns=init_data['feature_names'])\n",
    "# y = pd.DataFrame(data=y, columns=['label'])\n",
    "\n",
    "# split X into training and testing sets\n",
    "X_train, X_test, y_train, y_test = train_test_split(X, y, test_size=0.3, random_state=0)\n",
    "\n",
    "# Train a RandomForestClassifier as model \n",
    "forest = RandomForestClassifier(criterion='entropy',\n",
    "                                n_estimators=200, \n",
    "                                random_state=1,\n",
    "                                n_jobs=2)\n",
    "forest.fit(X_train, y_train)\n",
    "\n",
    "y_pred = forest.predict(X_test)\n",
    "print('Accuracy: %.2f' % accuracy_score(y_test, y_pred))\n",
    "print('Accuracy per feature: %.2f' % (accuracy_score(y_test, y_pred)/X.shape[1]))"
   ]
  },
  {
   "cell_type": "markdown",
   "metadata": {},
   "source": [
    "# First step: Print all first N features"
   ]
  },
  {
   "cell_type": "code",
   "execution_count": 15,
   "metadata": {},
   "outputs": [
    {
     "name": "stdout",
     "output_type": "stream",
     "text": [
      " 1) 0.141849\n",
      " 2) 0.117697\n",
      " 3) 0.110919\n",
      " 4) 0.105243\n",
      " 5) 0.077163\n",
      " 6) 0.073364\n",
      " 7) 0.041760\n",
      " 8) 0.036943\n",
      " 9) 0.035625\n",
      "10) 0.035205\n",
      "11) 0.032890\n",
      "12) 0.022736\n",
      "13) 0.018584\n",
      "14) 0.016786\n",
      "15) 0.015408\n",
      "16) 0.014770\n",
      "17) 0.014235\n",
      "18) 0.010085\n",
      "19) 0.010040\n",
      "20) 0.009015\n",
      "21) 0.008085\n",
      "22) 0.007420\n",
      "23) 0.006557\n",
      "24) 0.006368\n",
      "25) 0.006357\n",
      "26) 0.006135\n",
      "27) 0.005854\n",
      "28) 0.005100\n",
      "29) 0.004598\n",
      "30) 0.003209\n"
     ]
    }
   ],
   "source": [
    "importances = forest.feature_importances_\n",
    "# get sort indices in descending order\n",
    "indices = np.argsort(importances)[::-1]\n",
    "\n",
    "for f in range(X_train.shape[1]):\n",
    "    print(\"%2d) %f\" % (f + 1, importances[indices[f]]))"
   ]
  },
  {
   "cell_type": "markdown",
   "metadata": {},
   "source": [
    "# Second step: Guess and find the threshold you want"
   ]
  },
  {
   "cell_type": "code",
   "execution_count": 16,
   "metadata": {},
   "outputs": [
    {
     "name": "stdout",
     "output_type": "stream",
     "text": [
      "Accuracy: 0.89\n",
      "Accuracy per feature: 0.44\n"
     ]
    }
   ],
   "source": [
    "sfm = SelectFromModel(forest, threshold=0.116, prefit=True)\n",
    "Z_forest_alt = sfm.transform(X)\n",
    "\n",
    "X_train, X_test, y_train, y_test = train_test_split(Z_forest_alt, y, test_size=0.3, random_state=0)\n",
    "\n",
    "# Train a RandomForestClassifier as model \n",
    "forest = RandomForestClassifier(criterion='entropy',\n",
    "                                n_estimators=200, \n",
    "                                random_state=1,\n",
    "                                n_jobs=2)\n",
    "forest.fit(X_train, y_train)\n",
    "\n",
    "y_pred = forest.predict(X_test)\n",
    "print('Accuracy: %.2f' % accuracy_score(y_test, y_pred))\n",
    "print('Accuracy per feature: %.2f' % (accuracy_score(y_test, y_pred)/Z_forest_alt.shape[1]))"
   ]
  },
  {
   "cell_type": "markdown",
   "metadata": {},
   "source": [
    "### <a name=\"bootstrap\">[1] Bootstrap Sample: Definition, Example</a> \n",
    "<img src=\"https://www.statisticshowto.datasciencecentral.com/wp-content/uploads/2016/10/bootstrap-sample.png\">\n",
    "\n",
    "* Bootstrapping is a type of resampling where large numbers of smaller samples of the same size are repeatedly drawn, with replacement, from a single original sample.\n",
    "\n",
    "* For example, let’s say your sample was made up of ten numbers: 49, 34, 21, 18, 10, 8, 6, 5, 2, 1. You randomly draw three numbers 5, 1, and 49. You then replace those numbers into the sample and draw three numbers again. Repeat the process of drawing x numbers B times. Usually, original samples are much larger than this simple example, and B can reach into the thousands. After a large number of iterations, the bootstrap statistics are compiled into a bootstrap distribution. You’re replacing your numbers back into the pot, so your resamples can have the same item repeated several times (e.g. 49 could appear a dozen times in a dozen resamples).\n",
    "* Bootstrapping is loosely based on the law of large numbers, which states that if you sample over and over again, your data should approximate the true population data. This works, perhaps surprisingly, even when you’re using a single sample to generate the data.\n",
    "* Bootstrapping is usually performed with software (e.g. Stata or with the R Bootstrap package); The process generally follows three steps:\n",
    "    1. Resample a data set x times,\n",
    "    2. Find a summary statistic (called a bootstrap statistic) for each of the x samples,\n",
    "    3. Estimate the standard error for the bootstrap statistic using the standard deviation of the bootstrap distribution.\n",
    "* [Reference](https://www.statisticshowto.datasciencecentral.com/bootstrap-sample/)\n",
    "* [Click to go back](#Randomforest)"
   ]
  },
  {
   "cell_type": "code",
   "execution_count": null,
   "metadata": {},
   "outputs": [],
   "source": []
  }
 ],
 "metadata": {
  "kernelspec": {
   "display_name": "Python 3",
   "language": "python",
   "name": "python3"
  },
  "language_info": {
   "codemirror_mode": {
    "name": "ipython",
    "version": 3
   },
   "file_extension": ".py",
   "mimetype": "text/x-python",
   "name": "python",
   "nbconvert_exporter": "python",
   "pygments_lexer": "ipython3",
   "version": "3.5.2"
  }
 },
 "nbformat": 4,
 "nbformat_minor": 2
}
